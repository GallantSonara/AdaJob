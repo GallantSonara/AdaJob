{
  "cells": [
    {
      "cell_type": "code",
      "execution_count": 75,
      "metadata": {
        "id": "0vJOdh9WbTpd"
      },
      "outputs": [],
      "source": [
        "#pip install protobuf==3.20.*"
      ]
    },
    {
      "cell_type": "code",
      "execution_count": 76,
      "metadata": {
        "id": "Zqr_8xuK1pWi"
      },
      "outputs": [],
      "source": [
        "#import protobuf\n",
        "#print(protobuf.__version__)\n",
        "## 2.0.1"
      ]
    },
    {
      "cell_type": "code",
      "execution_count": 77,
      "metadata": {
        "id": "LEfAqEJ20OhY"
      },
      "outputs": [],
      "source": [
        "#install tfrs\n",
        "\n",
        "#uncomment the code below to install tfrs\n",
        "#!pip install -q tensorflow-recommenders"
      ]
    },
    {
      "cell_type": "code",
      "execution_count": 78,
      "metadata": {
        "id": "SZGYDaF-m5wZ"
      },
      "outputs": [],
      "source": [
        "#import the necessary modules\n",
        "\n",
        "import os\n",
        "import pprint\n",
        "import tempfile\n",
        "\n",
        "from typing import Dict, Text\n",
        "\n",
        "import numpy as np\n",
        "import pandas as pd\n",
        "import tensorflow as tf\n",
        "#import tensorflow_datasets as tfds\n",
        "import tensorflow_recommenders as tfrs"
      ]
    },
    {
      "cell_type": "code",
      "execution_count": 79,
      "metadata": {
        "id": "aaQhqcLGP0jL"
      },
      "outputs": [],
      "source": [
        "#read csv files to pandas\n",
        "\n",
        "#you can modify the path to your own path\n",
        "df_airdrops = pd.read_csv('/Dataset Recommendation System - Task Dataset.csv', dtype={'task_id':'str'})\n",
        "df_enrollments = pd.read_csv('/Dataset Recommendation System - Enrollment Dataset_enroll only.csv',  dtype={'user_id': 'str', 'task_id':'str'})"
      ]
    },
    {
      "cell_type": "code",
      "execution_count": 80,
      "metadata": {
        "id": "H8azm-MsgQb8"
      },
      "outputs": [
        {
          "name": "stdout",
          "output_type": "stream",
          "text": [
            "<class 'pandas.core.frame.DataFrame'>\n",
            "RangeIndex: 621 entries, 0 to 620\n",
            "Data columns (total 14 columns):\n",
            " #   Column            Non-Null Count  Dtype \n",
            "---  ------            --------------  ----- \n",
            " 0   user_id           621 non-null    object\n",
            " 1   user_name         621 non-null    object\n",
            " 2   user_gender       621 non-null    object\n",
            " 3   user_gender_bool  621 non-null    bool  \n",
            " 4   is_employed       621 non-null    object\n",
            " 5   is_employed_bool  621 non-null    bool  \n",
            " 6   user_age_group    621 non-null    object\n",
            " 7   user_level        621 non-null    object\n",
            " 8   user_level_bool   621 non-null    bool  \n",
            " 9   task_id           621 non-null    object\n",
            " 10  task_title        621 non-null    object\n",
            " 11  task_type         621 non-null    object\n",
            " 12  enrollment        621 non-null    object\n",
            " 13  enrollment_bool   621 non-null    bool  \n",
            "dtypes: bool(4), object(10)\n",
            "memory usage: 51.1+ KB\n"
          ]
        }
      ],
      "source": [
        "#check the dataframe\n",
        "\n",
        "df_enrollments.info()"
      ]
    },
    {
      "cell_type": "code",
      "execution_count": 81,
      "metadata": {
        "id": "uhbEvPJqxLec"
      },
      "outputs": [
        {
          "name": "stdout",
          "output_type": "stream",
          "text": [
            "<class 'tensorflow.python.data.ops.map_op._MapDataset'>\n",
            "<class 'tensorflow.python.data.ops.map_op._MapDataset'>\n"
          ]
        }
      ],
      "source": [
        "#convert the dataframe to a MapDataset\n",
        "\n",
        "enrollments = tf.data.Dataset.from_tensor_slices(dict(df_enrollments)).map(lambda x: {\n",
        "    \"task_title\": x[\"task_title\"],\n",
        "    \"user_id\": x[\"user_id\"],\n",
        "})\n",
        "\n",
        "airdrops = tf.data.Dataset.from_tensor_slices(dict(df_airdrops)).map(lambda x: x[\"task_title\"])\n",
        "\n",
        "print(type(enrollments))\n",
        "print(type(airdrops))\n",
        "\n"
      ]
    },
    {
      "cell_type": "code",
      "execution_count": 82,
      "metadata": {
        "id": "rS0eDfkjnjJL"
      },
      "outputs": [
        {
          "name": "stdout",
          "output_type": "stream",
          "text": [
            "621\n"
          ]
        }
      ],
      "source": [
        "#shuffle the data\n",
        "\n",
        "tf.random.set_seed(42)\n",
        "shuffled = enrollments.shuffle(621, seed=42, reshuffle_each_iteration=False)\n",
        "print(len(shuffled))"
      ]
    },
    {
      "cell_type": "code",
      "execution_count": 83,
      "metadata": {
        "id": "vSJBemeaVPG-"
      },
      "outputs": [],
      "source": [
        "#divide the shuffled data into train and test set\n",
        "\n",
        "train = shuffled.take(497)\n",
        "test = shuffled.skip(497).take(124)"
      ]
    },
    {
      "cell_type": "code",
      "execution_count": 84,
      "metadata": {
        "id": "XxVu8c6pDtD4"
      },
      "outputs": [
        {
          "name": "stdout",
          "output_type": "stream",
          "text": [
            "497\n",
            "124\n"
          ]
        }
      ],
      "source": [
        "print(len(train))\n",
        "print(len(test))"
      ]
    },
    {
      "attachments": {},
      "cell_type": "markdown",
      "metadata": {
        "id": "gVi1HJfR9D7H"
      },
      "source": [
        "Let's also figure out unique user ids and movie titles present in the data. \n",
        "\n",
        "This is important because we need to be able to map the raw values of our categorical features to embedding vectors in our models. To do that, we need a vocabulary that maps a raw feature value to an integer in a contiguous range: this allows us to look up the corresponding embeddings in our embedding tables."
      ]
    },
    {
      "cell_type": "code",
      "execution_count": 85,
      "metadata": {
        "id": "t49NyAAjXJal"
      },
      "outputs": [],
      "source": [
        "#unique_user_id = df_enrollments['user_id'].drop_duplicates().to_numpy()"
      ]
    },
    {
      "cell_type": "code",
      "execution_count": 86,
      "metadata": {
        "id": "MKROCiPo_5LJ"
      },
      "outputs": [
        {
          "name": "stdout",
          "output_type": "stream",
          "text": [
            "[b'BNB Doge' b'Binance' b'Bybit' b'Cashmerlabs' b'Catly.io' b'Cloud Base'\n",
            " b'Credit Dao' b'ETHOS' b'Elixir Protocol' b'Ftx']\n"
          ]
        }
      ],
      "source": [
        "#create arrays of unique airdrop titles and unique user ids to be used as vocabulary later\n",
        "\n",
        "airdrop_titles = airdrops.batch(100)\n",
        "user_ids = enrollments.batch(1000).map(lambda x: x[\"user_id\"])\n",
        "\n",
        "unique_airdrop_titles = np.unique(np.concatenate(list(airdrop_titles)))\n",
        "unique_user_ids = np.unique(np.concatenate(list(user_ids)))\n",
        "\n",
        "print(unique_airdrop_titles[:10])\n",
        "#unique_user_ids[:10]"
      ]
    },
    {
      "cell_type": "code",
      "execution_count": 87,
      "metadata": {
        "id": "Ejaq15_oWX2g"
      },
      "outputs": [
        {
          "name": "stdout",
          "output_type": "stream",
          "text": [
            "<class 'numpy.ndarray'>\n",
            "<class 'numpy.ndarray'>\n"
          ]
        }
      ],
      "source": [
        "print(type(unique_airdrop_titles))\n",
        "print(type(unique_user_ids))"
      ]
    },
    {
      "cell_type": "code",
      "execution_count": 88,
      "metadata": {
        "id": "dwrOtn0lV45S"
      },
      "outputs": [
        {
          "name": "stdout",
          "output_type": "stream",
          "text": [
            "30\n",
            "100\n"
          ]
        }
      ],
      "source": [
        "print(len(unique_airdrop_titles))\n",
        "print(len(unique_user_ids))"
      ]
    },
    {
      "attachments": {},
      "cell_type": "markdown",
      "metadata": {
        "id": "eCi-seR86qqa"
      },
      "source": [
        "## Implementing a model\n",
        "\n",
        "Choosing the architecture of our model is a key part of modelling.\n",
        "\n",
        "Because we are building a two-tower retrieval model, we can build each tower separately and then combine them in the final model."
      ]
    },
    {
      "attachments": {},
      "cell_type": "markdown",
      "metadata": {
        "id": "z20PyfSXP3Um"
      },
      "source": [
        "### The query tower\n",
        "\n",
        "Let's start with the query tower.\n",
        "\n",
        "The first step is to decide on the dimensionality of the query and candidate representations:"
      ]
    },
    {
      "cell_type": "code",
      "execution_count": 89,
      "metadata": {
        "id": "QbIy1FP8aCTq"
      },
      "outputs": [],
      "source": [
        "#set the embedding dimension\n",
        "\n",
        "embedding_dimension = 32"
      ]
    },
    {
      "attachments": {},
      "cell_type": "markdown",
      "metadata": {
        "id": "IJYwjpLRaEzj"
      },
      "source": [
        "Higher values will correspond to models that may be more accurate, but will also be slower to fit and more prone to overfitting.\n",
        "\n",
        "The second is to define the model itself. Here, we're going to use Keras preprocessing layers to first convert user ids to integers, and then convert those to user embeddings via an `Embedding` layer. Note that we use the list of unique user ids we computed earlier as a vocabulary:"
      ]
    },
    {
      "cell_type": "code",
      "execution_count": 90,
      "metadata": {
        "id": "kHQZJEhXP93N"
      },
      "outputs": [],
      "source": [
        "#define the user model to embed the user ids as the query tower\n",
        "\n",
        "user_model = tf.keras.Sequential([\n",
        "  tf.keras.layers.StringLookup(\n",
        "      vocabulary=unique_user_ids, mask_token=None),\n",
        "  # We add an additional embedding to account for unknown tokens.\n",
        "  tf.keras.layers.Embedding(len(unique_user_ids) + 1, embedding_dimension)\n",
        "])"
      ]
    },
    {
      "attachments": {},
      "cell_type": "markdown",
      "metadata": {
        "id": "Qvo2pEcdaiec"
      },
      "source": [
        "A simple model like this corresponds exactly to a classic [matrix factorization](https://ieeexplore.ieee.org/abstract/document/4781121) approach. While defining a subclass of `tf.keras.Model` for this simple model might be overkill, we can easily extend it to an arbitrarily complex model using standard Keras components, as long as we return an `embedding_dimension`-wide output at the end."
      ]
    },
    {
      "attachments": {},
      "cell_type": "markdown",
      "metadata": {
        "id": "dG4YFy9SQ08d"
      },
      "source": [
        "### The candidate tower\n",
        "\n",
        "We can do the same with the candidate tower."
      ]
    },
    {
      "cell_type": "code",
      "execution_count": 91,
      "metadata": {
        "id": "qNUwfIJTQ332"
      },
      "outputs": [],
      "source": [
        "#define the airdrop model to embed the airdrop titles as the candidate tower\n",
        "\n",
        "airdrop_model = tf.keras.Sequential([\n",
        "  tf.keras.layers.StringLookup(\n",
        "      vocabulary=unique_airdrop_titles, mask_token=None),\n",
        "  tf.keras.layers.Embedding(len(unique_airdrop_titles) + 1, embedding_dimension)\n",
        "])"
      ]
    },
    {
      "attachments": {},
      "cell_type": "markdown",
      "metadata": {
        "id": "r10RiPtqVIAl"
      },
      "source": [
        "### Metrics\n",
        "\n",
        "In our training data we have positive (user, movie) pairs. To figure out how good our model is, we need to compare the affinity score that the model calculates for this pair to the scores of all the other possible candidates: if the score for the positive pair is higher than for all other candidates, our model is highly accurate.\n",
        "\n",
        "To do this, we can use the `tfrs.metrics.FactorizedTopK` metric. The metric has one required argument: the dataset of candidates that are used as implicit negatives for evaluation.\n",
        "\n",
        "In our case, that's the `movies` dataset, converted into embeddings via our movie model:"
      ]
    },
    {
      "cell_type": "code",
      "execution_count": 92,
      "metadata": {
        "id": "1dLDL6pZVPO8"
      },
      "outputs": [],
      "source": [
        "#define the metrics as FactorizedTopK (Top1, Top5, Top10, Top50, Top100)\n",
        "\n",
        "metrics = tfrs.metrics.FactorizedTopK(\n",
        "  candidates=airdrops.batch(128).map(airdrop_model)\n",
        ")"
      ]
    },
    {
      "attachments": {},
      "cell_type": "markdown",
      "metadata": {
        "id": "nCaCqJsXSkCo"
      },
      "source": [
        "### Loss\n",
        "\n",
        "The next component is the loss used to train our model. TFRS has several loss layers and tasks to make this easy.\n",
        "\n",
        "In this instance, we'll make use of the `Retrieval` task object: a convenience wrapper that bundles together the loss function and metric computation:"
      ]
    },
    {
      "cell_type": "code",
      "execution_count": 93,
      "metadata": {
        "id": "tJ61Iz2QTBw3"
      },
      "outputs": [],
      "source": [
        "#define task to get loss function\n",
        "\n",
        "task = tfrs.tasks.Retrieval(\n",
        "  metrics=metrics\n",
        ")"
      ]
    },
    {
      "attachments": {},
      "cell_type": "markdown",
      "metadata": {
        "id": "9-3xFC-1cbz0"
      },
      "source": [
        "The task itself is a Keras layer that takes the query and candidate embeddings as arguments, and returns the computed loss: we'll use that to implement the model's training loop."
      ]
    },
    {
      "attachments": {},
      "cell_type": "markdown",
      "metadata": {
        "id": "FZUFeSlWRHGx"
      },
      "source": [
        "### The full model\n",
        "\n",
        "We can now put it all together into a model. TFRS exposes a base model class (`tfrs.models.Model`) which streamlines building models: all we need to do is to set up the components in the `__init__` method, and implement the `compute_loss` method, taking in the raw features and returning a loss value.\n",
        "\n",
        "The base model will then take care of creating the appropriate training loop to fit our model."
      ]
    },
    {
      "cell_type": "code",
      "execution_count": 94,
      "metadata": {},
      "outputs": [],
      "source": [
        "#combine the query tower and candidate tower to build a full model\n",
        "\n",
        "class AirdropsModel(tfrs.Model):\n",
        "\n",
        "  def __init__(self, user_model, airdrop_model):\n",
        "    super().__init__()\n",
        "    self.airdrop_model: tf.keras.Model = airdrop_model\n",
        "    self.user_model: tf.keras.Model = user_model\n",
        "    self.task: tf.keras.layers.Layer = task\n",
        "\n",
        "  def compute_loss(self, features: Dict[Text, tf.Tensor], training=False) -> tf.Tensor:\n",
        "    # We pick out the user features and pass them into the user model.\n",
        "    user_embeddings = self.user_model(features[\"user_id\"])\n",
        "    # And pick out the movie features and pass them into the movie model,\n",
        "    # getting embeddings back.\n",
        "    positive_airdrop_embeddings = self.airdrop_model(features[\"task_title\"])\n",
        "\n",
        "    # The task computes the loss and the metrics.\n",
        "    return self.task(user_embeddings, positive_airdrop_embeddings)\n",
        "\n",
        "  def get_config(self):\n",
        "    return {\n",
        "        \"user_model\": self.user_model,\n",
        "        \"airdrop_model\": self.airdrop_model,\n",
        "        \"task\": self.task\n",
        "    }\n"
      ]
    },
    {
      "attachments": {},
      "cell_type": "markdown",
      "metadata": {
        "id": "I7B8PdfNqyuN"
      },
      "source": [
        "The `tfrs.Model` base class is a simply convenience class: it allows us to compute both training and test losses using the same method.\n",
        "\n",
        "Under the hood, it's still a plain Keras model. You could achieve the same functionality by inheriting from `tf.keras.Model` and overriding the `train_step` and `test_step` functions (see [the guide](https://www.tensorflow.org/guide/keras/customizing_what_happens_in_fit) for details):"
      ]
    },
    {
      "attachments": {},
      "cell_type": "markdown",
      "metadata": {
        "id": "uHnl2nHMs_E0"
      },
      "source": [
        "In these tutorials, however, we stick to using the `tfrs.Model` base class to keep our focus on modelling and abstract away some of the boilerplate."
      ]
    },
    {
      "attachments": {},
      "cell_type": "markdown",
      "metadata": {
        "id": "yDN_LJGlnRGo"
      },
      "source": [
        "## Fitting and evaluating\n",
        "\n",
        "After defining the model, we can use standard Keras fitting and evaluation routines to fit and evaluate the model.\n",
        "\n",
        "Let's first instantiate the model."
      ]
    },
    {
      "cell_type": "code",
      "execution_count": 95,
      "metadata": {
        "id": "aW63YaqP2wCf"
      },
      "outputs": [],
      "source": [
        "#instantiate the model\n",
        "\n",
        "model = AirdropsModel(user_model, airdrop_model)\n",
        "model.compile(optimizer=tf.keras.optimizers.Adagrad(learning_rate=0.1))"
      ]
    },
    {
      "attachments": {},
      "cell_type": "markdown",
      "metadata": {
        "id": "Nma0vc2XdN5g"
      },
      "source": [
        "Then shuffle, batch, and cache the training and evaluation data."
      ]
    },
    {
      "cell_type": "code",
      "execution_count": 96,
      "metadata": {
        "id": "53QJwY1gUnfv"
      },
      "outputs": [],
      "source": [
        "#cache both train and test dataset\n",
        "\n",
        "cached_train = train.shuffle(621).batch(128).cache()\n",
        "cached_test = test.batch(64).cache()"
      ]
    },
    {
      "attachments": {},
      "cell_type": "markdown",
      "metadata": {
        "id": "u8mHTxKAdTJO"
      },
      "source": [
        "Then train the  model:"
      ]
    },
    {
      "cell_type": "code",
      "execution_count": 97,
      "metadata": {
        "id": "ZxPntlT8EFOZ"
      },
      "outputs": [
        {
          "name": "stdout",
          "output_type": "stream",
          "text": [
            "Epoch 1/100\n",
            "4/4 [==============================] - 1s 53ms/step - factorized_top_k/top_1_categorical_accuracy: 0.0000e+00 - factorized_top_k/top_5_categorical_accuracy: 0.0644 - factorized_top_k/top_10_categorical_accuracy: 0.2716 - factorized_top_k/top_50_categorical_accuracy: 1.0000 - factorized_top_k/top_100_categorical_accuracy: 1.0000 - loss: 586.3874 - regularization_loss: 0.0000e+00 - total_loss: 586.3874\n",
            "Epoch 2/100\n",
            "4/4 [==============================] - 0s 51ms/step - factorized_top_k/top_1_categorical_accuracy: 0.0000e+00 - factorized_top_k/top_5_categorical_accuracy: 0.2656 - factorized_top_k/top_10_categorical_accuracy: 0.7002 - factorized_top_k/top_50_categorical_accuracy: 1.0000 - factorized_top_k/top_100_categorical_accuracy: 1.0000 - loss: 580.5542 - regularization_loss: 0.0000e+00 - total_loss: 580.5542\n",
            "Epoch 3/100\n",
            "4/4 [==============================] - 0s 51ms/step - factorized_top_k/top_1_categorical_accuracy: 0.0000e+00 - factorized_top_k/top_5_categorical_accuracy: 0.3360 - factorized_top_k/top_10_categorical_accuracy: 0.7183 - factorized_top_k/top_50_categorical_accuracy: 1.0000 - factorized_top_k/top_100_categorical_accuracy: 1.0000 - loss: 553.5082 - regularization_loss: 0.0000e+00 - total_loss: 553.5082\n",
            "Epoch 4/100\n",
            "4/4 [==============================] - 0s 55ms/step - factorized_top_k/top_1_categorical_accuracy: 0.0080 - factorized_top_k/top_5_categorical_accuracy: 0.4266 - factorized_top_k/top_10_categorical_accuracy: 0.7787 - factorized_top_k/top_50_categorical_accuracy: 1.0000 - factorized_top_k/top_100_categorical_accuracy: 1.0000 - loss: 517.3606 - regularization_loss: 0.0000e+00 - total_loss: 517.3606\n",
            "Epoch 5/100\n",
            "4/4 [==============================] - 0s 49ms/step - factorized_top_k/top_1_categorical_accuracy: 0.0302 - factorized_top_k/top_5_categorical_accuracy: 0.5412 - factorized_top_k/top_10_categorical_accuracy: 0.8169 - factorized_top_k/top_50_categorical_accuracy: 1.0000 - factorized_top_k/top_100_categorical_accuracy: 1.0000 - loss: 492.6259 - regularization_loss: 0.0000e+00 - total_loss: 492.6259\n",
            "Epoch 6/100\n",
            "4/4 [==============================] - 0s 49ms/step - factorized_top_k/top_1_categorical_accuracy: 0.0241 - factorized_top_k/top_5_categorical_accuracy: 0.6097 - factorized_top_k/top_10_categorical_accuracy: 0.8410 - factorized_top_k/top_50_categorical_accuracy: 1.0000 - factorized_top_k/top_100_categorical_accuracy: 1.0000 - loss: 476.0282 - regularization_loss: 0.0000e+00 - total_loss: 476.0282\n",
            "Epoch 7/100\n",
            "4/4 [==============================] - 0s 56ms/step - factorized_top_k/top_1_categorical_accuracy: 0.0241 - factorized_top_k/top_5_categorical_accuracy: 0.6459 - factorized_top_k/top_10_categorical_accuracy: 0.8592 - factorized_top_k/top_50_categorical_accuracy: 1.0000 - factorized_top_k/top_100_categorical_accuracy: 1.0000 - loss: 463.8217 - regularization_loss: 0.0000e+00 - total_loss: 463.8217\n",
            "Epoch 8/100\n",
            "4/4 [==============================] - 0s 49ms/step - factorized_top_k/top_1_categorical_accuracy: 0.0322 - factorized_top_k/top_5_categorical_accuracy: 0.6579 - factorized_top_k/top_10_categorical_accuracy: 0.8692 - factorized_top_k/top_50_categorical_accuracy: 1.0000 - factorized_top_k/top_100_categorical_accuracy: 1.0000 - loss: 454.5518 - regularization_loss: 0.0000e+00 - total_loss: 454.5518\n",
            "Epoch 9/100\n",
            "4/4 [==============================] - 0s 50ms/step - factorized_top_k/top_1_categorical_accuracy: 0.0362 - factorized_top_k/top_5_categorical_accuracy: 0.6620 - factorized_top_k/top_10_categorical_accuracy: 0.8833 - factorized_top_k/top_50_categorical_accuracy: 1.0000 - factorized_top_k/top_100_categorical_accuracy: 1.0000 - loss: 447.4015 - regularization_loss: 0.0000e+00 - total_loss: 447.4015\n",
            "Epoch 10/100\n",
            "4/4 [==============================] - 0s 50ms/step - factorized_top_k/top_1_categorical_accuracy: 0.0362 - factorized_top_k/top_5_categorical_accuracy: 0.6740 - factorized_top_k/top_10_categorical_accuracy: 0.8853 - factorized_top_k/top_50_categorical_accuracy: 1.0000 - factorized_top_k/top_100_categorical_accuracy: 1.0000 - loss: 441.7979 - regularization_loss: 0.0000e+00 - total_loss: 441.7979\n",
            "Epoch 11/100\n",
            "4/4 [==============================] - 0s 48ms/step - factorized_top_k/top_1_categorical_accuracy: 0.0342 - factorized_top_k/top_5_categorical_accuracy: 0.6801 - factorized_top_k/top_10_categorical_accuracy: 0.8853 - factorized_top_k/top_50_categorical_accuracy: 1.0000 - factorized_top_k/top_100_categorical_accuracy: 1.0000 - loss: 437.3295 - regularization_loss: 0.0000e+00 - total_loss: 437.3295\n",
            "Epoch 12/100\n",
            "4/4 [==============================] - 0s 49ms/step - factorized_top_k/top_1_categorical_accuracy: 0.0382 - factorized_top_k/top_5_categorical_accuracy: 0.6740 - factorized_top_k/top_10_categorical_accuracy: 0.8873 - factorized_top_k/top_50_categorical_accuracy: 1.0000 - factorized_top_k/top_100_categorical_accuracy: 1.0000 - loss: 433.7031 - regularization_loss: 0.0000e+00 - total_loss: 433.7031\n",
            "Epoch 13/100\n",
            "4/4 [==============================] - 0s 50ms/step - factorized_top_k/top_1_categorical_accuracy: 0.0362 - factorized_top_k/top_5_categorical_accuracy: 0.6720 - factorized_top_k/top_10_categorical_accuracy: 0.8893 - factorized_top_k/top_50_categorical_accuracy: 1.0000 - factorized_top_k/top_100_categorical_accuracy: 1.0000 - loss: 430.7110 - regularization_loss: 0.0000e+00 - total_loss: 430.7110\n",
            "Epoch 14/100\n",
            "4/4 [==============================] - 0s 50ms/step - factorized_top_k/top_1_categorical_accuracy: 0.0282 - factorized_top_k/top_5_categorical_accuracy: 0.6700 - factorized_top_k/top_10_categorical_accuracy: 0.8934 - factorized_top_k/top_50_categorical_accuracy: 1.0000 - factorized_top_k/top_100_categorical_accuracy: 1.0000 - loss: 428.2056 - regularization_loss: 0.0000e+00 - total_loss: 428.2056\n",
            "Epoch 15/100\n",
            "4/4 [==============================] - 0s 49ms/step - factorized_top_k/top_1_categorical_accuracy: 0.0282 - factorized_top_k/top_5_categorical_accuracy: 0.6801 - factorized_top_k/top_10_categorical_accuracy: 0.8893 - factorized_top_k/top_50_categorical_accuracy: 1.0000 - factorized_top_k/top_100_categorical_accuracy: 1.0000 - loss: 426.0799 - regularization_loss: 0.0000e+00 - total_loss: 426.0799\n",
            "Epoch 16/100\n",
            "4/4 [==============================] - 0s 48ms/step - factorized_top_k/top_1_categorical_accuracy: 0.0262 - factorized_top_k/top_5_categorical_accuracy: 0.6821 - factorized_top_k/top_10_categorical_accuracy: 0.8893 - factorized_top_k/top_50_categorical_accuracy: 1.0000 - factorized_top_k/top_100_categorical_accuracy: 1.0000 - loss: 424.2553 - regularization_loss: 0.0000e+00 - total_loss: 424.2553\n",
            "Epoch 17/100\n",
            "4/4 [==============================] - 0s 49ms/step - factorized_top_k/top_1_categorical_accuracy: 0.0282 - factorized_top_k/top_5_categorical_accuracy: 0.6861 - factorized_top_k/top_10_categorical_accuracy: 0.8893 - factorized_top_k/top_50_categorical_accuracy: 1.0000 - factorized_top_k/top_100_categorical_accuracy: 1.0000 - loss: 422.6725 - regularization_loss: 0.0000e+00 - total_loss: 422.6725\n",
            "Epoch 18/100\n",
            "4/4 [==============================] - 0s 50ms/step - factorized_top_k/top_1_categorical_accuracy: 0.0282 - factorized_top_k/top_5_categorical_accuracy: 0.6901 - factorized_top_k/top_10_categorical_accuracy: 0.8974 - factorized_top_k/top_50_categorical_accuracy: 1.0000 - factorized_top_k/top_100_categorical_accuracy: 1.0000 - loss: 421.2867 - regularization_loss: 0.0000e+00 - total_loss: 421.2867\n",
            "Epoch 19/100\n",
            "4/4 [==============================] - 0s 52ms/step - factorized_top_k/top_1_categorical_accuracy: 0.0282 - factorized_top_k/top_5_categorical_accuracy: 0.6881 - factorized_top_k/top_10_categorical_accuracy: 0.8974 - factorized_top_k/top_50_categorical_accuracy: 1.0000 - factorized_top_k/top_100_categorical_accuracy: 1.0000 - loss: 420.0631 - regularization_loss: 0.0000e+00 - total_loss: 420.0631\n",
            "Epoch 20/100\n",
            "4/4 [==============================] - 0s 50ms/step - factorized_top_k/top_1_categorical_accuracy: 0.0262 - factorized_top_k/top_5_categorical_accuracy: 0.6901 - factorized_top_k/top_10_categorical_accuracy: 0.8974 - factorized_top_k/top_50_categorical_accuracy: 1.0000 - factorized_top_k/top_100_categorical_accuracy: 1.0000 - loss: 418.9746 - regularization_loss: 0.0000e+00 - total_loss: 418.9746\n",
            "Epoch 21/100\n",
            "4/4 [==============================] - 0s 51ms/step - factorized_top_k/top_1_categorical_accuracy: 0.0262 - factorized_top_k/top_5_categorical_accuracy: 0.6861 - factorized_top_k/top_10_categorical_accuracy: 0.8994 - factorized_top_k/top_50_categorical_accuracy: 1.0000 - factorized_top_k/top_100_categorical_accuracy: 1.0000 - loss: 418.0000 - regularization_loss: 0.0000e+00 - total_loss: 418.0000\n",
            "Epoch 22/100\n",
            "4/4 [==============================] - 0s 55ms/step - factorized_top_k/top_1_categorical_accuracy: 0.0282 - factorized_top_k/top_5_categorical_accuracy: 0.6841 - factorized_top_k/top_10_categorical_accuracy: 0.9014 - factorized_top_k/top_50_categorical_accuracy: 1.0000 - factorized_top_k/top_100_categorical_accuracy: 1.0000 - loss: 417.1222 - regularization_loss: 0.0000e+00 - total_loss: 417.1222\n",
            "Epoch 23/100\n",
            "4/4 [==============================] - 0s 48ms/step - factorized_top_k/top_1_categorical_accuracy: 0.0322 - factorized_top_k/top_5_categorical_accuracy: 0.6861 - factorized_top_k/top_10_categorical_accuracy: 0.9034 - factorized_top_k/top_50_categorical_accuracy: 1.0000 - factorized_top_k/top_100_categorical_accuracy: 1.0000 - loss: 416.3272 - regularization_loss: 0.0000e+00 - total_loss: 416.3272\n",
            "Epoch 24/100\n",
            "4/4 [==============================] - 0s 48ms/step - factorized_top_k/top_1_categorical_accuracy: 0.0322 - factorized_top_k/top_5_categorical_accuracy: 0.6861 - factorized_top_k/top_10_categorical_accuracy: 0.9034 - factorized_top_k/top_50_categorical_accuracy: 1.0000 - factorized_top_k/top_100_categorical_accuracy: 1.0000 - loss: 415.6039 - regularization_loss: 0.0000e+00 - total_loss: 415.6039\n",
            "Epoch 25/100\n",
            "4/4 [==============================] - 0s 50ms/step - factorized_top_k/top_1_categorical_accuracy: 0.0322 - factorized_top_k/top_5_categorical_accuracy: 0.6901 - factorized_top_k/top_10_categorical_accuracy: 0.9034 - factorized_top_k/top_50_categorical_accuracy: 1.0000 - factorized_top_k/top_100_categorical_accuracy: 1.0000 - loss: 414.9429 - regularization_loss: 0.0000e+00 - total_loss: 414.9429\n",
            "Epoch 26/100\n",
            "4/4 [==============================] - 0s 48ms/step - factorized_top_k/top_1_categorical_accuracy: 0.0322 - factorized_top_k/top_5_categorical_accuracy: 0.6962 - factorized_top_k/top_10_categorical_accuracy: 0.9074 - factorized_top_k/top_50_categorical_accuracy: 1.0000 - factorized_top_k/top_100_categorical_accuracy: 1.0000 - loss: 414.3364 - regularization_loss: 0.0000e+00 - total_loss: 414.3364\n",
            "Epoch 27/100\n",
            "4/4 [==============================] - 0s 49ms/step - factorized_top_k/top_1_categorical_accuracy: 0.0322 - factorized_top_k/top_5_categorical_accuracy: 0.7002 - factorized_top_k/top_10_categorical_accuracy: 0.9074 - factorized_top_k/top_50_categorical_accuracy: 1.0000 - factorized_top_k/top_100_categorical_accuracy: 1.0000 - loss: 413.7779 - regularization_loss: 0.0000e+00 - total_loss: 413.7779\n",
            "Epoch 28/100\n",
            "4/4 [==============================] - 0s 50ms/step - factorized_top_k/top_1_categorical_accuracy: 0.0322 - factorized_top_k/top_5_categorical_accuracy: 0.7002 - factorized_top_k/top_10_categorical_accuracy: 0.9054 - factorized_top_k/top_50_categorical_accuracy: 1.0000 - factorized_top_k/top_100_categorical_accuracy: 1.0000 - loss: 413.2619 - regularization_loss: 0.0000e+00 - total_loss: 413.2619\n",
            "Epoch 29/100\n",
            "4/4 [==============================] - 0s 49ms/step - factorized_top_k/top_1_categorical_accuracy: 0.0322 - factorized_top_k/top_5_categorical_accuracy: 0.7022 - factorized_top_k/top_10_categorical_accuracy: 0.9074 - factorized_top_k/top_50_categorical_accuracy: 1.0000 - factorized_top_k/top_100_categorical_accuracy: 1.0000 - loss: 412.7836 - regularization_loss: 0.0000e+00 - total_loss: 412.7836\n",
            "Epoch 30/100\n",
            "4/4 [==============================] - 0s 48ms/step - factorized_top_k/top_1_categorical_accuracy: 0.0322 - factorized_top_k/top_5_categorical_accuracy: 0.7022 - factorized_top_k/top_10_categorical_accuracy: 0.9074 - factorized_top_k/top_50_categorical_accuracy: 1.0000 - factorized_top_k/top_100_categorical_accuracy: 1.0000 - loss: 412.3391 - regularization_loss: 0.0000e+00 - total_loss: 412.3391\n",
            "Epoch 31/100\n",
            "4/4 [==============================] - 0s 50ms/step - factorized_top_k/top_1_categorical_accuracy: 0.0322 - factorized_top_k/top_5_categorical_accuracy: 0.7022 - factorized_top_k/top_10_categorical_accuracy: 0.9074 - factorized_top_k/top_50_categorical_accuracy: 1.0000 - factorized_top_k/top_100_categorical_accuracy: 1.0000 - loss: 411.9248 - regularization_loss: 0.0000e+00 - total_loss: 411.9248\n",
            "Epoch 32/100\n",
            "4/4 [==============================] - 0s 50ms/step - factorized_top_k/top_1_categorical_accuracy: 0.0322 - factorized_top_k/top_5_categorical_accuracy: 0.7002 - factorized_top_k/top_10_categorical_accuracy: 0.9054 - factorized_top_k/top_50_categorical_accuracy: 1.0000 - factorized_top_k/top_100_categorical_accuracy: 1.0000 - loss: 411.5377 - regularization_loss: 0.0000e+00 - total_loss: 411.5377\n",
            "Epoch 33/100\n",
            "4/4 [==============================] - 0s 50ms/step - factorized_top_k/top_1_categorical_accuracy: 0.0322 - factorized_top_k/top_5_categorical_accuracy: 0.7022 - factorized_top_k/top_10_categorical_accuracy: 0.9074 - factorized_top_k/top_50_categorical_accuracy: 1.0000 - factorized_top_k/top_100_categorical_accuracy: 1.0000 - loss: 411.1753 - regularization_loss: 0.0000e+00 - total_loss: 411.1753\n",
            "Epoch 34/100\n",
            "4/4 [==============================] - 0s 49ms/step - factorized_top_k/top_1_categorical_accuracy: 0.0322 - factorized_top_k/top_5_categorical_accuracy: 0.7022 - factorized_top_k/top_10_categorical_accuracy: 0.9054 - factorized_top_k/top_50_categorical_accuracy: 1.0000 - factorized_top_k/top_100_categorical_accuracy: 1.0000 - loss: 410.8351 - regularization_loss: 0.0000e+00 - total_loss: 410.8351\n",
            "Epoch 35/100\n",
            "4/4 [==============================] - 0s 50ms/step - factorized_top_k/top_1_categorical_accuracy: 0.0322 - factorized_top_k/top_5_categorical_accuracy: 0.7002 - factorized_top_k/top_10_categorical_accuracy: 0.9054 - factorized_top_k/top_50_categorical_accuracy: 1.0000 - factorized_top_k/top_100_categorical_accuracy: 1.0000 - loss: 410.5151 - regularization_loss: 0.0000e+00 - total_loss: 410.5151\n",
            "Epoch 36/100\n",
            "4/4 [==============================] - 0s 48ms/step - factorized_top_k/top_1_categorical_accuracy: 0.0322 - factorized_top_k/top_5_categorical_accuracy: 0.6962 - factorized_top_k/top_10_categorical_accuracy: 0.9034 - factorized_top_k/top_50_categorical_accuracy: 1.0000 - factorized_top_k/top_100_categorical_accuracy: 1.0000 - loss: 410.2136 - regularization_loss: 0.0000e+00 - total_loss: 410.2136\n",
            "Epoch 37/100\n",
            "4/4 [==============================] - 0s 49ms/step - factorized_top_k/top_1_categorical_accuracy: 0.0322 - factorized_top_k/top_5_categorical_accuracy: 0.6962 - factorized_top_k/top_10_categorical_accuracy: 0.9054 - factorized_top_k/top_50_categorical_accuracy: 1.0000 - factorized_top_k/top_100_categorical_accuracy: 1.0000 - loss: 409.9289 - regularization_loss: 0.0000e+00 - total_loss: 409.9289\n",
            "Epoch 38/100\n",
            "4/4 [==============================] - 0s 57ms/step - factorized_top_k/top_1_categorical_accuracy: 0.0322 - factorized_top_k/top_5_categorical_accuracy: 0.6942 - factorized_top_k/top_10_categorical_accuracy: 0.9054 - factorized_top_k/top_50_categorical_accuracy: 1.0000 - factorized_top_k/top_100_categorical_accuracy: 1.0000 - loss: 409.6597 - regularization_loss: 0.0000e+00 - total_loss: 409.6597\n",
            "Epoch 39/100\n",
            "4/4 [==============================] - 0s 50ms/step - factorized_top_k/top_1_categorical_accuracy: 0.0322 - factorized_top_k/top_5_categorical_accuracy: 0.6922 - factorized_top_k/top_10_categorical_accuracy: 0.9054 - factorized_top_k/top_50_categorical_accuracy: 1.0000 - factorized_top_k/top_100_categorical_accuracy: 1.0000 - loss: 409.4046 - regularization_loss: 0.0000e+00 - total_loss: 409.4046\n",
            "Epoch 40/100\n",
            "4/4 [==============================] - 0s 51ms/step - factorized_top_k/top_1_categorical_accuracy: 0.0342 - factorized_top_k/top_5_categorical_accuracy: 0.6922 - factorized_top_k/top_10_categorical_accuracy: 0.9054 - factorized_top_k/top_50_categorical_accuracy: 1.0000 - factorized_top_k/top_100_categorical_accuracy: 1.0000 - loss: 409.1626 - regularization_loss: 0.0000e+00 - total_loss: 409.1626\n",
            "Epoch 41/100\n",
            "4/4 [==============================] - 0s 48ms/step - factorized_top_k/top_1_categorical_accuracy: 0.0342 - factorized_top_k/top_5_categorical_accuracy: 0.6922 - factorized_top_k/top_10_categorical_accuracy: 0.9054 - factorized_top_k/top_50_categorical_accuracy: 1.0000 - factorized_top_k/top_100_categorical_accuracy: 1.0000 - loss: 408.9327 - regularization_loss: 0.0000e+00 - total_loss: 408.9327\n",
            "Epoch 42/100\n",
            "4/4 [==============================] - 0s 49ms/step - factorized_top_k/top_1_categorical_accuracy: 0.0342 - factorized_top_k/top_5_categorical_accuracy: 0.6922 - factorized_top_k/top_10_categorical_accuracy: 0.9034 - factorized_top_k/top_50_categorical_accuracy: 1.0000 - factorized_top_k/top_100_categorical_accuracy: 1.0000 - loss: 408.7139 - regularization_loss: 0.0000e+00 - total_loss: 408.7139\n",
            "Epoch 43/100\n",
            "4/4 [==============================] - 0s 48ms/step - factorized_top_k/top_1_categorical_accuracy: 0.0342 - factorized_top_k/top_5_categorical_accuracy: 0.6942 - factorized_top_k/top_10_categorical_accuracy: 0.9034 - factorized_top_k/top_50_categorical_accuracy: 1.0000 - factorized_top_k/top_100_categorical_accuracy: 1.0000 - loss: 408.5053 - regularization_loss: 0.0000e+00 - total_loss: 408.5053\n",
            "Epoch 44/100\n",
            "4/4 [==============================] - 0s 50ms/step - factorized_top_k/top_1_categorical_accuracy: 0.0342 - factorized_top_k/top_5_categorical_accuracy: 0.6942 - factorized_top_k/top_10_categorical_accuracy: 0.9054 - factorized_top_k/top_50_categorical_accuracy: 1.0000 - factorized_top_k/top_100_categorical_accuracy: 1.0000 - loss: 408.3064 - regularization_loss: 0.0000e+00 - total_loss: 408.3064\n",
            "Epoch 45/100\n",
            "4/4 [==============================] - 0s 49ms/step - factorized_top_k/top_1_categorical_accuracy: 0.0342 - factorized_top_k/top_5_categorical_accuracy: 0.6922 - factorized_top_k/top_10_categorical_accuracy: 0.9074 - factorized_top_k/top_50_categorical_accuracy: 1.0000 - factorized_top_k/top_100_categorical_accuracy: 1.0000 - loss: 408.1164 - regularization_loss: 0.0000e+00 - total_loss: 408.1164\n",
            "Epoch 46/100\n",
            "4/4 [==============================] - 0s 49ms/step - factorized_top_k/top_1_categorical_accuracy: 0.0342 - factorized_top_k/top_5_categorical_accuracy: 0.6922 - factorized_top_k/top_10_categorical_accuracy: 0.9054 - factorized_top_k/top_50_categorical_accuracy: 1.0000 - factorized_top_k/top_100_categorical_accuracy: 1.0000 - loss: 407.9346 - regularization_loss: 0.0000e+00 - total_loss: 407.9346\n",
            "Epoch 47/100\n",
            "4/4 [==============================] - 0s 49ms/step - factorized_top_k/top_1_categorical_accuracy: 0.0342 - factorized_top_k/top_5_categorical_accuracy: 0.6922 - factorized_top_k/top_10_categorical_accuracy: 0.9054 - factorized_top_k/top_50_categorical_accuracy: 1.0000 - factorized_top_k/top_100_categorical_accuracy: 1.0000 - loss: 407.7605 - regularization_loss: 0.0000e+00 - total_loss: 407.7605\n",
            "Epoch 48/100\n",
            "4/4 [==============================] - 0s 50ms/step - factorized_top_k/top_1_categorical_accuracy: 0.0342 - factorized_top_k/top_5_categorical_accuracy: 0.6901 - factorized_top_k/top_10_categorical_accuracy: 0.9054 - factorized_top_k/top_50_categorical_accuracy: 1.0000 - factorized_top_k/top_100_categorical_accuracy: 1.0000 - loss: 407.5937 - regularization_loss: 0.0000e+00 - total_loss: 407.5937\n",
            "Epoch 49/100\n",
            "4/4 [==============================] - 0s 47ms/step - factorized_top_k/top_1_categorical_accuracy: 0.0342 - factorized_top_k/top_5_categorical_accuracy: 0.6901 - factorized_top_k/top_10_categorical_accuracy: 0.9054 - factorized_top_k/top_50_categorical_accuracy: 1.0000 - factorized_top_k/top_100_categorical_accuracy: 1.0000 - loss: 407.4336 - regularization_loss: 0.0000e+00 - total_loss: 407.4336\n",
            "Epoch 50/100\n",
            "4/4 [==============================] - 0s 50ms/step - factorized_top_k/top_1_categorical_accuracy: 0.0342 - factorized_top_k/top_5_categorical_accuracy: 0.6901 - factorized_top_k/top_10_categorical_accuracy: 0.9054 - factorized_top_k/top_50_categorical_accuracy: 1.0000 - factorized_top_k/top_100_categorical_accuracy: 1.0000 - loss: 407.2799 - regularization_loss: 0.0000e+00 - total_loss: 407.2799\n",
            "Epoch 51/100\n",
            "4/4 [==============================] - 0s 49ms/step - factorized_top_k/top_1_categorical_accuracy: 0.0342 - factorized_top_k/top_5_categorical_accuracy: 0.6901 - factorized_top_k/top_10_categorical_accuracy: 0.9054 - factorized_top_k/top_50_categorical_accuracy: 1.0000 - factorized_top_k/top_100_categorical_accuracy: 1.0000 - loss: 407.1321 - regularization_loss: 0.0000e+00 - total_loss: 407.1321\n",
            "Epoch 52/100\n",
            "4/4 [==============================] - 0s 49ms/step - factorized_top_k/top_1_categorical_accuracy: 0.0342 - factorized_top_k/top_5_categorical_accuracy: 0.6881 - factorized_top_k/top_10_categorical_accuracy: 0.9074 - factorized_top_k/top_50_categorical_accuracy: 1.0000 - factorized_top_k/top_100_categorical_accuracy: 1.0000 - loss: 406.9899 - regularization_loss: 0.0000e+00 - total_loss: 406.9899\n",
            "Epoch 53/100\n",
            "4/4 [==============================] - 0s 49ms/step - factorized_top_k/top_1_categorical_accuracy: 0.0342 - factorized_top_k/top_5_categorical_accuracy: 0.6881 - factorized_top_k/top_10_categorical_accuracy: 0.9074 - factorized_top_k/top_50_categorical_accuracy: 1.0000 - factorized_top_k/top_100_categorical_accuracy: 1.0000 - loss: 406.8529 - regularization_loss: 0.0000e+00 - total_loss: 406.8529\n",
            "Epoch 54/100\n",
            "4/4 [==============================] - 0s 49ms/step - factorized_top_k/top_1_categorical_accuracy: 0.0342 - factorized_top_k/top_5_categorical_accuracy: 0.6881 - factorized_top_k/top_10_categorical_accuracy: 0.9054 - factorized_top_k/top_50_categorical_accuracy: 1.0000 - factorized_top_k/top_100_categorical_accuracy: 1.0000 - loss: 406.7209 - regularization_loss: 0.0000e+00 - total_loss: 406.7209\n",
            "Epoch 55/100\n",
            "4/4 [==============================] - 0s 51ms/step - factorized_top_k/top_1_categorical_accuracy: 0.0342 - factorized_top_k/top_5_categorical_accuracy: 0.6881 - factorized_top_k/top_10_categorical_accuracy: 0.9034 - factorized_top_k/top_50_categorical_accuracy: 1.0000 - factorized_top_k/top_100_categorical_accuracy: 1.0000 - loss: 406.5935 - regularization_loss: 0.0000e+00 - total_loss: 406.5935\n",
            "Epoch 56/100\n",
            "4/4 [==============================] - 0s 50ms/step - factorized_top_k/top_1_categorical_accuracy: 0.0342 - factorized_top_k/top_5_categorical_accuracy: 0.6881 - factorized_top_k/top_10_categorical_accuracy: 0.9034 - factorized_top_k/top_50_categorical_accuracy: 1.0000 - factorized_top_k/top_100_categorical_accuracy: 1.0000 - loss: 406.4706 - regularization_loss: 0.0000e+00 - total_loss: 406.4706\n",
            "Epoch 57/100\n",
            "4/4 [==============================] - 0s 49ms/step - factorized_top_k/top_1_categorical_accuracy: 0.0342 - factorized_top_k/top_5_categorical_accuracy: 0.6881 - factorized_top_k/top_10_categorical_accuracy: 0.9034 - factorized_top_k/top_50_categorical_accuracy: 1.0000 - factorized_top_k/top_100_categorical_accuracy: 1.0000 - loss: 406.3518 - regularization_loss: 0.0000e+00 - total_loss: 406.3518\n",
            "Epoch 58/100\n",
            "4/4 [==============================] - 0s 52ms/step - factorized_top_k/top_1_categorical_accuracy: 0.0342 - factorized_top_k/top_5_categorical_accuracy: 0.6881 - factorized_top_k/top_10_categorical_accuracy: 0.9034 - factorized_top_k/top_50_categorical_accuracy: 1.0000 - factorized_top_k/top_100_categorical_accuracy: 1.0000 - loss: 406.2370 - regularization_loss: 0.0000e+00 - total_loss: 406.2370\n",
            "Epoch 59/100\n",
            "4/4 [==============================] - 0s 48ms/step - factorized_top_k/top_1_categorical_accuracy: 0.0342 - factorized_top_k/top_5_categorical_accuracy: 0.6901 - factorized_top_k/top_10_categorical_accuracy: 0.9034 - factorized_top_k/top_50_categorical_accuracy: 1.0000 - factorized_top_k/top_100_categorical_accuracy: 1.0000 - loss: 406.1259 - regularization_loss: 0.0000e+00 - total_loss: 406.1259\n",
            "Epoch 60/100\n",
            "4/4 [==============================] - 0s 50ms/step - factorized_top_k/top_1_categorical_accuracy: 0.0342 - factorized_top_k/top_5_categorical_accuracy: 0.6901 - factorized_top_k/top_10_categorical_accuracy: 0.9034 - factorized_top_k/top_50_categorical_accuracy: 1.0000 - factorized_top_k/top_100_categorical_accuracy: 1.0000 - loss: 406.0183 - regularization_loss: 0.0000e+00 - total_loss: 406.0183\n",
            "Epoch 61/100\n",
            "4/4 [==============================] - 0s 50ms/step - factorized_top_k/top_1_categorical_accuracy: 0.0342 - factorized_top_k/top_5_categorical_accuracy: 0.6881 - factorized_top_k/top_10_categorical_accuracy: 0.9034 - factorized_top_k/top_50_categorical_accuracy: 1.0000 - factorized_top_k/top_100_categorical_accuracy: 1.0000 - loss: 405.9141 - regularization_loss: 0.0000e+00 - total_loss: 405.9141\n",
            "Epoch 62/100\n",
            "4/4 [==============================] - 0s 49ms/step - factorized_top_k/top_1_categorical_accuracy: 0.0342 - factorized_top_k/top_5_categorical_accuracy: 0.6901 - factorized_top_k/top_10_categorical_accuracy: 0.9034 - factorized_top_k/top_50_categorical_accuracy: 1.0000 - factorized_top_k/top_100_categorical_accuracy: 1.0000 - loss: 405.8132 - regularization_loss: 0.0000e+00 - total_loss: 405.8132\n",
            "Epoch 63/100\n",
            "4/4 [==============================] - 0s 51ms/step - factorized_top_k/top_1_categorical_accuracy: 0.0342 - factorized_top_k/top_5_categorical_accuracy: 0.6901 - factorized_top_k/top_10_categorical_accuracy: 0.9034 - factorized_top_k/top_50_categorical_accuracy: 1.0000 - factorized_top_k/top_100_categorical_accuracy: 1.0000 - loss: 405.7152 - regularization_loss: 0.0000e+00 - total_loss: 405.7152\n",
            "Epoch 64/100\n",
            "4/4 [==============================] - 0s 49ms/step - factorized_top_k/top_1_categorical_accuracy: 0.0362 - factorized_top_k/top_5_categorical_accuracy: 0.6901 - factorized_top_k/top_10_categorical_accuracy: 0.9034 - factorized_top_k/top_50_categorical_accuracy: 1.0000 - factorized_top_k/top_100_categorical_accuracy: 1.0000 - loss: 405.6202 - regularization_loss: 0.0000e+00 - total_loss: 405.6202\n",
            "Epoch 65/100\n",
            "4/4 [==============================] - 0s 55ms/step - factorized_top_k/top_1_categorical_accuracy: 0.0362 - factorized_top_k/top_5_categorical_accuracy: 0.6901 - factorized_top_k/top_10_categorical_accuracy: 0.9034 - factorized_top_k/top_50_categorical_accuracy: 1.0000 - factorized_top_k/top_100_categorical_accuracy: 1.0000 - loss: 405.5279 - regularization_loss: 0.0000e+00 - total_loss: 405.5279\n",
            "Epoch 66/100\n",
            "4/4 [==============================] - 0s 50ms/step - factorized_top_k/top_1_categorical_accuracy: 0.0362 - factorized_top_k/top_5_categorical_accuracy: 0.6901 - factorized_top_k/top_10_categorical_accuracy: 0.9034 - factorized_top_k/top_50_categorical_accuracy: 1.0000 - factorized_top_k/top_100_categorical_accuracy: 1.0000 - loss: 405.4382 - regularization_loss: 0.0000e+00 - total_loss: 405.4382\n",
            "Epoch 67/100\n",
            "4/4 [==============================] - 0s 51ms/step - factorized_top_k/top_1_categorical_accuracy: 0.0362 - factorized_top_k/top_5_categorical_accuracy: 0.6901 - factorized_top_k/top_10_categorical_accuracy: 0.9034 - factorized_top_k/top_50_categorical_accuracy: 1.0000 - factorized_top_k/top_100_categorical_accuracy: 1.0000 - loss: 405.3511 - regularization_loss: 0.0000e+00 - total_loss: 405.3511\n",
            "Epoch 68/100\n",
            "4/4 [==============================] - 0s 49ms/step - factorized_top_k/top_1_categorical_accuracy: 0.0362 - factorized_top_k/top_5_categorical_accuracy: 0.6901 - factorized_top_k/top_10_categorical_accuracy: 0.9054 - factorized_top_k/top_50_categorical_accuracy: 1.0000 - factorized_top_k/top_100_categorical_accuracy: 1.0000 - loss: 405.2663 - regularization_loss: 0.0000e+00 - total_loss: 405.2663\n",
            "Epoch 69/100\n",
            "4/4 [==============================] - 0s 48ms/step - factorized_top_k/top_1_categorical_accuracy: 0.0362 - factorized_top_k/top_5_categorical_accuracy: 0.6901 - factorized_top_k/top_10_categorical_accuracy: 0.9054 - factorized_top_k/top_50_categorical_accuracy: 1.0000 - factorized_top_k/top_100_categorical_accuracy: 1.0000 - loss: 405.1838 - regularization_loss: 0.0000e+00 - total_loss: 405.1838\n",
            "Epoch 70/100\n",
            "4/4 [==============================] - 0s 48ms/step - factorized_top_k/top_1_categorical_accuracy: 0.0362 - factorized_top_k/top_5_categorical_accuracy: 0.6922 - factorized_top_k/top_10_categorical_accuracy: 0.9054 - factorized_top_k/top_50_categorical_accuracy: 1.0000 - factorized_top_k/top_100_categorical_accuracy: 1.0000 - loss: 405.1036 - regularization_loss: 0.0000e+00 - total_loss: 405.1036\n",
            "Epoch 71/100\n",
            "4/4 [==============================] - 0s 48ms/step - factorized_top_k/top_1_categorical_accuracy: 0.0362 - factorized_top_k/top_5_categorical_accuracy: 0.6922 - factorized_top_k/top_10_categorical_accuracy: 0.9054 - factorized_top_k/top_50_categorical_accuracy: 1.0000 - factorized_top_k/top_100_categorical_accuracy: 1.0000 - loss: 405.0254 - regularization_loss: 0.0000e+00 - total_loss: 405.0254\n",
            "Epoch 72/100\n",
            "4/4 [==============================] - 0s 52ms/step - factorized_top_k/top_1_categorical_accuracy: 0.0362 - factorized_top_k/top_5_categorical_accuracy: 0.6922 - factorized_top_k/top_10_categorical_accuracy: 0.9054 - factorized_top_k/top_50_categorical_accuracy: 1.0000 - factorized_top_k/top_100_categorical_accuracy: 1.0000 - loss: 404.9493 - regularization_loss: 0.0000e+00 - total_loss: 404.9493\n",
            "Epoch 73/100\n",
            "4/4 [==============================] - 0s 48ms/step - factorized_top_k/top_1_categorical_accuracy: 0.0362 - factorized_top_k/top_5_categorical_accuracy: 0.6922 - factorized_top_k/top_10_categorical_accuracy: 0.9054 - factorized_top_k/top_50_categorical_accuracy: 1.0000 - factorized_top_k/top_100_categorical_accuracy: 1.0000 - loss: 404.8750 - regularization_loss: 0.0000e+00 - total_loss: 404.8750\n",
            "Epoch 74/100\n",
            "4/4 [==============================] - 0s 52ms/step - factorized_top_k/top_1_categorical_accuracy: 0.0382 - factorized_top_k/top_5_categorical_accuracy: 0.6922 - factorized_top_k/top_10_categorical_accuracy: 0.9054 - factorized_top_k/top_50_categorical_accuracy: 1.0000 - factorized_top_k/top_100_categorical_accuracy: 1.0000 - loss: 404.8027 - regularization_loss: 0.0000e+00 - total_loss: 404.8027\n",
            "Epoch 75/100\n",
            "4/4 [==============================] - 0s 51ms/step - factorized_top_k/top_1_categorical_accuracy: 0.0382 - factorized_top_k/top_5_categorical_accuracy: 0.6922 - factorized_top_k/top_10_categorical_accuracy: 0.9054 - factorized_top_k/top_50_categorical_accuracy: 1.0000 - factorized_top_k/top_100_categorical_accuracy: 1.0000 - loss: 404.7321 - regularization_loss: 0.0000e+00 - total_loss: 404.7321\n",
            "Epoch 76/100\n",
            "4/4 [==============================] - 0s 57ms/step - factorized_top_k/top_1_categorical_accuracy: 0.0382 - factorized_top_k/top_5_categorical_accuracy: 0.6922 - factorized_top_k/top_10_categorical_accuracy: 0.9054 - factorized_top_k/top_50_categorical_accuracy: 1.0000 - factorized_top_k/top_100_categorical_accuracy: 1.0000 - loss: 404.6632 - regularization_loss: 0.0000e+00 - total_loss: 404.6632\n",
            "Epoch 77/100\n",
            "4/4 [==============================] - 0s 51ms/step - factorized_top_k/top_1_categorical_accuracy: 0.0382 - factorized_top_k/top_5_categorical_accuracy: 0.6922 - factorized_top_k/top_10_categorical_accuracy: 0.9054 - factorized_top_k/top_50_categorical_accuracy: 1.0000 - factorized_top_k/top_100_categorical_accuracy: 1.0000 - loss: 404.5959 - regularization_loss: 0.0000e+00 - total_loss: 404.5959\n",
            "Epoch 78/100\n",
            "4/4 [==============================] - 0s 51ms/step - factorized_top_k/top_1_categorical_accuracy: 0.0382 - factorized_top_k/top_5_categorical_accuracy: 0.6922 - factorized_top_k/top_10_categorical_accuracy: 0.9054 - factorized_top_k/top_50_categorical_accuracy: 1.0000 - factorized_top_k/top_100_categorical_accuracy: 1.0000 - loss: 404.5303 - regularization_loss: 0.0000e+00 - total_loss: 404.5303\n",
            "Epoch 79/100\n",
            "4/4 [==============================] - 0s 55ms/step - factorized_top_k/top_1_categorical_accuracy: 0.0382 - factorized_top_k/top_5_categorical_accuracy: 0.6922 - factorized_top_k/top_10_categorical_accuracy: 0.9054 - factorized_top_k/top_50_categorical_accuracy: 1.0000 - factorized_top_k/top_100_categorical_accuracy: 1.0000 - loss: 404.4661 - regularization_loss: 0.0000e+00 - total_loss: 404.4661\n",
            "Epoch 80/100\n",
            "4/4 [==============================] - 0s 50ms/step - factorized_top_k/top_1_categorical_accuracy: 0.0402 - factorized_top_k/top_5_categorical_accuracy: 0.6922 - factorized_top_k/top_10_categorical_accuracy: 0.9054 - factorized_top_k/top_50_categorical_accuracy: 1.0000 - factorized_top_k/top_100_categorical_accuracy: 1.0000 - loss: 404.4034 - regularization_loss: 0.0000e+00 - total_loss: 404.4034\n",
            "Epoch 81/100\n",
            "4/4 [==============================] - 0s 50ms/step - factorized_top_k/top_1_categorical_accuracy: 0.0402 - factorized_top_k/top_5_categorical_accuracy: 0.6942 - factorized_top_k/top_10_categorical_accuracy: 0.9074 - factorized_top_k/top_50_categorical_accuracy: 1.0000 - factorized_top_k/top_100_categorical_accuracy: 1.0000 - loss: 404.3421 - regularization_loss: 0.0000e+00 - total_loss: 404.3421\n",
            "Epoch 82/100\n",
            "4/4 [==============================] - 0s 50ms/step - factorized_top_k/top_1_categorical_accuracy: 0.0402 - factorized_top_k/top_5_categorical_accuracy: 0.6942 - factorized_top_k/top_10_categorical_accuracy: 0.9074 - factorized_top_k/top_50_categorical_accuracy: 1.0000 - factorized_top_k/top_100_categorical_accuracy: 1.0000 - loss: 404.2822 - regularization_loss: 0.0000e+00 - total_loss: 404.2822\n",
            "Epoch 83/100\n",
            "4/4 [==============================] - 0s 53ms/step - factorized_top_k/top_1_categorical_accuracy: 0.0402 - factorized_top_k/top_5_categorical_accuracy: 0.6942 - factorized_top_k/top_10_categorical_accuracy: 0.9095 - factorized_top_k/top_50_categorical_accuracy: 1.0000 - factorized_top_k/top_100_categorical_accuracy: 1.0000 - loss: 404.2235 - regularization_loss: 0.0000e+00 - total_loss: 404.2235\n",
            "Epoch 84/100\n",
            "4/4 [==============================] - 0s 49ms/step - factorized_top_k/top_1_categorical_accuracy: 0.0402 - factorized_top_k/top_5_categorical_accuracy: 0.6922 - factorized_top_k/top_10_categorical_accuracy: 0.9095 - factorized_top_k/top_50_categorical_accuracy: 1.0000 - factorized_top_k/top_100_categorical_accuracy: 1.0000 - loss: 404.1662 - regularization_loss: 0.0000e+00 - total_loss: 404.1662\n",
            "Epoch 85/100\n",
            "4/4 [==============================] - 0s 52ms/step - factorized_top_k/top_1_categorical_accuracy: 0.0402 - factorized_top_k/top_5_categorical_accuracy: 0.6922 - factorized_top_k/top_10_categorical_accuracy: 0.9095 - factorized_top_k/top_50_categorical_accuracy: 1.0000 - factorized_top_k/top_100_categorical_accuracy: 1.0000 - loss: 404.1100 - regularization_loss: 0.0000e+00 - total_loss: 404.1100\n",
            "Epoch 86/100\n",
            "4/4 [==============================] - 0s 53ms/step - factorized_top_k/top_1_categorical_accuracy: 0.0402 - factorized_top_k/top_5_categorical_accuracy: 0.6922 - factorized_top_k/top_10_categorical_accuracy: 0.9095 - factorized_top_k/top_50_categorical_accuracy: 1.0000 - factorized_top_k/top_100_categorical_accuracy: 1.0000 - loss: 404.0550 - regularization_loss: 0.0000e+00 - total_loss: 404.0550\n",
            "Epoch 87/100\n",
            "4/4 [==============================] - 0s 51ms/step - factorized_top_k/top_1_categorical_accuracy: 0.0402 - factorized_top_k/top_5_categorical_accuracy: 0.6922 - factorized_top_k/top_10_categorical_accuracy: 0.9095 - factorized_top_k/top_50_categorical_accuracy: 1.0000 - factorized_top_k/top_100_categorical_accuracy: 1.0000 - loss: 404.0012 - regularization_loss: 0.0000e+00 - total_loss: 404.0012\n",
            "Epoch 88/100\n",
            "4/4 [==============================] - 0s 51ms/step - factorized_top_k/top_1_categorical_accuracy: 0.0402 - factorized_top_k/top_5_categorical_accuracy: 0.6922 - factorized_top_k/top_10_categorical_accuracy: 0.9095 - factorized_top_k/top_50_categorical_accuracy: 1.0000 - factorized_top_k/top_100_categorical_accuracy: 1.0000 - loss: 403.9484 - regularization_loss: 0.0000e+00 - total_loss: 403.9484\n",
            "Epoch 89/100\n",
            "4/4 [==============================] - 0s 65ms/step - factorized_top_k/top_1_categorical_accuracy: 0.0402 - factorized_top_k/top_5_categorical_accuracy: 0.6922 - factorized_top_k/top_10_categorical_accuracy: 0.9095 - factorized_top_k/top_50_categorical_accuracy: 1.0000 - factorized_top_k/top_100_categorical_accuracy: 1.0000 - loss: 403.8968 - regularization_loss: 0.0000e+00 - total_loss: 403.8968\n",
            "Epoch 90/100\n",
            "4/4 [==============================] - 0s 51ms/step - factorized_top_k/top_1_categorical_accuracy: 0.0402 - factorized_top_k/top_5_categorical_accuracy: 0.6922 - factorized_top_k/top_10_categorical_accuracy: 0.9095 - factorized_top_k/top_50_categorical_accuracy: 1.0000 - factorized_top_k/top_100_categorical_accuracy: 1.0000 - loss: 403.8461 - regularization_loss: 0.0000e+00 - total_loss: 403.8461\n",
            "Epoch 91/100\n",
            "4/4 [==============================] - 0s 56ms/step - factorized_top_k/top_1_categorical_accuracy: 0.0402 - factorized_top_k/top_5_categorical_accuracy: 0.6942 - factorized_top_k/top_10_categorical_accuracy: 0.9095 - factorized_top_k/top_50_categorical_accuracy: 1.0000 - factorized_top_k/top_100_categorical_accuracy: 1.0000 - loss: 403.7964 - regularization_loss: 0.0000e+00 - total_loss: 403.7964\n",
            "Epoch 92/100\n",
            "4/4 [==============================] - 0s 50ms/step - factorized_top_k/top_1_categorical_accuracy: 0.0423 - factorized_top_k/top_5_categorical_accuracy: 0.6942 - factorized_top_k/top_10_categorical_accuracy: 0.9095 - factorized_top_k/top_50_categorical_accuracy: 1.0000 - factorized_top_k/top_100_categorical_accuracy: 1.0000 - loss: 403.7477 - regularization_loss: 0.0000e+00 - total_loss: 403.7477\n",
            "Epoch 93/100\n",
            "4/4 [==============================] - 0s 50ms/step - factorized_top_k/top_1_categorical_accuracy: 0.0423 - factorized_top_k/top_5_categorical_accuracy: 0.6942 - factorized_top_k/top_10_categorical_accuracy: 0.9095 - factorized_top_k/top_50_categorical_accuracy: 1.0000 - factorized_top_k/top_100_categorical_accuracy: 1.0000 - loss: 403.6999 - regularization_loss: 0.0000e+00 - total_loss: 403.6999\n",
            "Epoch 94/100\n",
            "4/4 [==============================] - 0s 49ms/step - factorized_top_k/top_1_categorical_accuracy: 0.0423 - factorized_top_k/top_5_categorical_accuracy: 0.6942 - factorized_top_k/top_10_categorical_accuracy: 0.9095 - factorized_top_k/top_50_categorical_accuracy: 1.0000 - factorized_top_k/top_100_categorical_accuracy: 1.0000 - loss: 403.6531 - regularization_loss: 0.0000e+00 - total_loss: 403.6531\n",
            "Epoch 95/100\n",
            "4/4 [==============================] - 0s 49ms/step - factorized_top_k/top_1_categorical_accuracy: 0.0423 - factorized_top_k/top_5_categorical_accuracy: 0.6942 - factorized_top_k/top_10_categorical_accuracy: 0.9095 - factorized_top_k/top_50_categorical_accuracy: 1.0000 - factorized_top_k/top_100_categorical_accuracy: 1.0000 - loss: 403.6070 - regularization_loss: 0.0000e+00 - total_loss: 403.6070\n",
            "Epoch 96/100\n",
            "4/4 [==============================] - 0s 49ms/step - factorized_top_k/top_1_categorical_accuracy: 0.0423 - factorized_top_k/top_5_categorical_accuracy: 0.6942 - factorized_top_k/top_10_categorical_accuracy: 0.9095 - factorized_top_k/top_50_categorical_accuracy: 1.0000 - factorized_top_k/top_100_categorical_accuracy: 1.0000 - loss: 403.5619 - regularization_loss: 0.0000e+00 - total_loss: 403.5619\n",
            "Epoch 97/100\n",
            "4/4 [==============================] - 0s 57ms/step - factorized_top_k/top_1_categorical_accuracy: 0.0423 - factorized_top_k/top_5_categorical_accuracy: 0.6942 - factorized_top_k/top_10_categorical_accuracy: 0.9095 - factorized_top_k/top_50_categorical_accuracy: 1.0000 - factorized_top_k/top_100_categorical_accuracy: 1.0000 - loss: 403.5176 - regularization_loss: 0.0000e+00 - total_loss: 403.5176\n",
            "Epoch 98/100\n",
            "4/4 [==============================] - 0s 55ms/step - factorized_top_k/top_1_categorical_accuracy: 0.0423 - factorized_top_k/top_5_categorical_accuracy: 0.6942 - factorized_top_k/top_10_categorical_accuracy: 0.9095 - factorized_top_k/top_50_categorical_accuracy: 1.0000 - factorized_top_k/top_100_categorical_accuracy: 1.0000 - loss: 403.4740 - regularization_loss: 0.0000e+00 - total_loss: 403.4740\n",
            "Epoch 99/100\n",
            "4/4 [==============================] - 0s 52ms/step - factorized_top_k/top_1_categorical_accuracy: 0.0423 - factorized_top_k/top_5_categorical_accuracy: 0.6942 - factorized_top_k/top_10_categorical_accuracy: 0.9095 - factorized_top_k/top_50_categorical_accuracy: 1.0000 - factorized_top_k/top_100_categorical_accuracy: 1.0000 - loss: 403.4313 - regularization_loss: 0.0000e+00 - total_loss: 403.4313\n",
            "Epoch 100/100\n",
            "4/4 [==============================] - 0s 55ms/step - factorized_top_k/top_1_categorical_accuracy: 0.0443 - factorized_top_k/top_5_categorical_accuracy: 0.6942 - factorized_top_k/top_10_categorical_accuracy: 0.9095 - factorized_top_k/top_50_categorical_accuracy: 1.0000 - factorized_top_k/top_100_categorical_accuracy: 1.0000 - loss: 403.3892 - regularization_loss: 0.0000e+00 - total_loss: 403.3892\n"
          ]
        }
      ],
      "source": [
        "#train the model\n",
        "train_history = model.fit(cached_train, epochs=100)\n"
      ]
    },
    {
      "attachments": {},
      "cell_type": "markdown",
      "metadata": {},
      "source": [
        "Plot Training Loss and Training Accuracy"
      ]
    },
    {
      "cell_type": "code",
      "execution_count": 98,
      "metadata": {},
      "outputs": [
        {
          "data": {
            "image/png": "[encoded data removed]",
            "text/plain": [
              "<Figure size 640x480 with 1 Axes>"
            ]
          },
          "metadata": {},
          "output_type": "display_data"
        },
        {
          "data": {
            "image/png": "[encoded data removed]",
            "text/plain": [
              "<Figure size 640x480 with 1 Axes>"
            ]
          },
          "metadata": {},
          "output_type": "display_data"
        }
      ],
      "source": [
        "import matplotlib.pyplot as plt\n",
        "\n",
        "# Plot the training loss\n",
        "plt.plot(train_history.history[\"loss\"])\n",
        "plt.title(\"Training Loss\")\n",
        "plt.xlabel(\"Epoch\")\n",
        "plt.ylabel(\"Loss\")\n",
        "plt.show()\n",
        "\n",
        "# Plot the accuracy metrics\n",
        "for metric in [\"factorized_top_k/top_1_categorical_accuracy\", \"factorized_top_k/top_5_categorical_accuracy\", \"factorized_top_k/top_10_categorical_accuracy\"]:\n",
        "    plt.plot(train_history.history[metric])\n",
        "plt.title(\"Training Accuracy\")\n",
        "plt.xlabel(\"Epoch\")\n",
        "plt.ylabel(\"Accuracy\")\n",
        "plt.legend([\"Top-1 Accuracy\", \"Top-5 Accuracy\", \"Top-10 Accuracy\"])\n",
        "plt.show()\n"
      ]
    },
    {
      "attachments": {},
      "cell_type": "markdown",
      "metadata": {
        "id": "YsluR8audV9W"
      },
      "source": [
        "If you want to monitor the training process with TensorBoard, you can add a TensorBoard callback to fit() function and then start TensorBoard using `%tensorboard --logdir logs/fit`. Please refer to [TensorBoard documentation](https://www.tensorflow.org/tensorboard/get_started) for more details.\n",
        "\n",
        "As the model trains, the loss is falling and a set of top-k retrieval metrics is updated. These tell us whether the true positive is in the top-k retrieved items from the entire candidate set. For example, a top-5 categorical accuracy metric of 0.2 would tell us that, on average, the true positive is in the top 5 retrieved items 20% of the time.\n",
        "\n",
        "Note that, in this example, we evaluate the metrics during training as well as evaluation. Because this can be quite slow with large candidate sets, it may be prudent to turn metric calculation off in training, and only run it in evaluation."
      ]
    },
    {
      "attachments": {},
      "cell_type": "markdown",
      "metadata": {
        "id": "7Gxp5RLFcv64"
      },
      "source": [
        "Finally, we can evaluate our model on the test set:"
      ]
    },
    {
      "cell_type": "code",
      "execution_count": 99,
      "metadata": {
        "id": "W-zu6HLODNeI"
      },
      "outputs": [
        {
          "name": "stdout",
          "output_type": "stream",
          "text": [
            "2/2 [==============================] - 0s 53ms/step - factorized_top_k/top_1_categorical_accuracy: 0.0000e+00 - factorized_top_k/top_5_categorical_accuracy: 0.1613 - factorized_top_k/top_10_categorical_accuracy: 0.4355 - factorized_top_k/top_50_categorical_accuracy: 1.0000 - factorized_top_k/top_100_categorical_accuracy: 1.0000 - loss: 471.7342 - regularization_loss: 0.0000e+00 - total_loss: 471.7342\n"
          ]
        },
        {
          "data": {
            "text/plain": [
              "{'factorized_top_k/top_1_categorical_accuracy': 0.0,\n",
              " 'factorized_top_k/top_5_categorical_accuracy': 0.16129031777381897,\n",
              " 'factorized_top_k/top_10_categorical_accuracy': 0.4354838728904724,\n",
              " 'factorized_top_k/top_50_categorical_accuracy': 1.0,\n",
              " 'factorized_top_k/top_100_categorical_accuracy': 1.0,\n",
              " 'loss': 461.57440185546875,\n",
              " 'regularization_loss': 0,\n",
              " 'total_loss': 461.57440185546875}"
            ]
          },
          "execution_count": 99,
          "metadata": {},
          "output_type": "execute_result"
        }
      ],
      "source": [
        "#evaluate the model on the test dataset\n",
        "\n",
        "model.evaluate(cached_test, return_dict=True)"
      ]
    },
    {
      "attachments": {},
      "cell_type": "markdown",
      "metadata": {
        "id": "JKZyP9A1dxit"
      },
      "source": [
        "Test set performance is much worse than training performance. This is due to two factors:\n",
        "\n",
        "1. Our model is likely to perform better on the data that it has seen, simply because it can memorize it. This overfitting phenomenon is especially strong when models have many parameters. It can be mediated by model regularization and use of user and movie features that help the model generalize better to unseen data.\n",
        "2. The model is re-recommending some of users' already watched movies. These known-positive watches can crowd out test movies out of top K recommendations.\n",
        "\n",
        "The second phenomenon can be tackled by excluding previously seen movies from test recommendations. This approach is relatively common in the recommender systems literature, but we don't follow it in these tutorials. If not recommending past watches is important, we should expect appropriately specified models to learn this behaviour automatically from past user history and contextual information. Additionally, it is often appropriate to recommend the same item multiple times (say, an evergreen TV series or a regularly purchased item)."
      ]
    },
    {
      "attachments": {},
      "cell_type": "markdown",
      "metadata": {
        "id": "NB2v43NJU3Xf"
      },
      "source": [
        "## Making predictions\n",
        "\n",
        "Now that we have a model, we would like to be able to make predictions. We can use the `tfrs.layers.factorized_top_k.BruteForce` layer to do this."
      ]
    },
    {
      "cell_type": "code",
      "execution_count": 100,
      "metadata": {
        "id": "IRD6bEtZW_8j"
      },
      "outputs": [
        {
          "data": {
            "text/plain": [
              "<tensorflow_recommenders.layers.factorized_top_k.BruteForce at 0x12556181160>"
            ]
          },
          "execution_count": 100,
          "metadata": {},
          "output_type": "execute_result"
        }
      ],
      "source": [
        "# Create a model that takes in user id and recommends airdrop jobs out of the entire airdrop jobs.\n",
        "index = tfrs.layers.factorized_top_k.BruteForce(model.user_model)\n",
        "index.index_from_dataset(\n",
        "  tf.data.Dataset.zip((airdrops.batch(100), airdrops.batch(100).map(model.airdrop_model)))\n",
        ")"
      ]
    },
    {
      "cell_type": "code",
      "execution_count": 101,
      "metadata": {
        "id": "Vx8WyaVi9h0J"
      },
      "outputs": [
        {
          "name": "stdout",
          "output_type": "stream",
          "text": [
            "tf.Tensor(\n",
            "[b'Viva Leva' b'Cashmerlabs' b'Turbos Finance' b'ETHOS' b'Hashgreenswap'\n",
            " b'Cloud Base' b'Fusion Finance' b'GiroSwap' b'Elixir Protocol'\n",
            " b'Mantle Testnet'], shape=(10,), dtype=string)\n"
          ]
        }
      ],
      "source": [
        "# Get recommendations.\n",
        "userid = 42\n",
        "_, titles = index(tf.constant([str(userid)]))\n",
        "recommended_titles = []\n",
        "\n",
        "for airdrop in titles:\n",
        "  print(airdrop)"
      ]
    },
    {
      "cell_type": "code",
      "execution_count": 102,
      "metadata": {
        "id": "3tBhdL6PIpUp"
      },
      "outputs": [
        {
          "name": "stdout",
          "output_type": "stream",
          "text": [
            "<class 'tensorflow.python.framework.ops.EagerTensor'>\n"
          ]
        }
      ],
      "source": [
        "print(type(titles))"
      ]
    },
    {
      "cell_type": "code",
      "execution_count": 103,
      "metadata": {
        "id": "V0soVbXoIt9W"
      },
      "outputs": [
        {
          "name": "stdout",
          "output_type": "stream",
          "text": [
            "<class 'list'>\n"
          ]
        }
      ],
      "source": [
        "titles = titles.numpy().tolist()\n",
        "print(type(titles))"
      ]
    },
    {
      "cell_type": "code",
      "execution_count": 104,
      "metadata": {
        "id": "Gtb_yI-mKmKk"
      },
      "outputs": [
        {
          "name": "stdout",
          "output_type": "stream",
          "text": [
            "[[b'Viva Leva', b'Cashmerlabs', b'Turbos Finance', b'ETHOS', b'Hashgreenswap', b'Cloud Base', b'Fusion Finance', b'GiroSwap', b'Elixir Protocol', b'Mantle Testnet']]\n"
          ]
        }
      ],
      "source": [
        "print(titles)"
      ]
    },
    {
      "cell_type": "code",
      "execution_count": 105,
      "metadata": {
        "id": "9UeS_aEjJhBN"
      },
      "outputs": [
        {
          "data": {
            "text/html": [
              "<div>\n",
              "<style scoped>\n",
              "    .dataframe tbody tr th:only-of-type {\n",
              "        vertical-align: middle;\n",
              "    }\n",
              "\n",
              "    .dataframe tbody tr th {\n",
              "        vertical-align: top;\n",
              "    }\n",
              "\n",
              "    .dataframe thead th {\n",
              "        text-align: right;\n",
              "    }\n",
              "</style>\n",
              "<table border=\"1\" class=\"dataframe\">\n",
              "  <thead>\n",
              "    <tr style=\"text-align: right;\">\n",
              "      <th></th>\n",
              "      <th>user_id</th>\n",
              "      <th>user_name</th>\n",
              "      <th>user_gender</th>\n",
              "      <th>user_gender_bool</th>\n",
              "      <th>is_employed</th>\n",
              "      <th>is_employed_bool</th>\n",
              "      <th>user_age_group</th>\n",
              "      <th>user_level</th>\n",
              "      <th>user_level_bool</th>\n",
              "      <th>task_id</th>\n",
              "      <th>task_title</th>\n",
              "      <th>task_type</th>\n",
              "      <th>enrollment</th>\n",
              "      <th>enrollment_bool</th>\n",
              "    </tr>\n",
              "  </thead>\n",
              "  <tbody>\n",
              "    <tr>\n",
              "      <th>366</th>\n",
              "      <td>42</td>\n",
              "      <td>Layla</td>\n",
              "      <td>Female</td>\n",
              "      <td>False</td>\n",
              "      <td>Employed</td>\n",
              "      <td>True</td>\n",
              "      <td>B</td>\n",
              "      <td>Experienced</td>\n",
              "      <td>True</td>\n",
              "      <td>2</td>\n",
              "      <td>Scroll Testnet</td>\n",
              "      <td>Testnet</td>\n",
              "      <td>Yes</td>\n",
              "      <td>True</td>\n",
              "    </tr>\n",
              "    <tr>\n",
              "      <th>367</th>\n",
              "      <td>42</td>\n",
              "      <td>Layla</td>\n",
              "      <td>Female</td>\n",
              "      <td>False</td>\n",
              "      <td>Employed</td>\n",
              "      <td>True</td>\n",
              "      <td>B</td>\n",
              "      <td>Experienced</td>\n",
              "      <td>True</td>\n",
              "      <td>3</td>\n",
              "      <td>Zetachain</td>\n",
              "      <td>Testnet</td>\n",
              "      <td>Yes</td>\n",
              "      <td>True</td>\n",
              "    </tr>\n",
              "    <tr>\n",
              "      <th>368</th>\n",
              "      <td>42</td>\n",
              "      <td>Layla</td>\n",
              "      <td>Female</td>\n",
              "      <td>False</td>\n",
              "      <td>Employed</td>\n",
              "      <td>True</td>\n",
              "      <td>B</td>\n",
              "      <td>Experienced</td>\n",
              "      <td>True</td>\n",
              "      <td>8</td>\n",
              "      <td>Viva Leva</td>\n",
              "      <td>Testnet</td>\n",
              "      <td>Yes</td>\n",
              "      <td>True</td>\n",
              "    </tr>\n",
              "    <tr>\n",
              "      <th>369</th>\n",
              "      <td>42</td>\n",
              "      <td>Layla</td>\n",
              "      <td>Female</td>\n",
              "      <td>False</td>\n",
              "      <td>Employed</td>\n",
              "      <td>True</td>\n",
              "      <td>B</td>\n",
              "      <td>Experienced</td>\n",
              "      <td>True</td>\n",
              "      <td>9</td>\n",
              "      <td>Cashmerlabs</td>\n",
              "      <td>Testnet</td>\n",
              "      <td>Yes</td>\n",
              "      <td>True</td>\n",
              "    </tr>\n",
              "    <tr>\n",
              "      <th>370</th>\n",
              "      <td>42</td>\n",
              "      <td>Layla</td>\n",
              "      <td>Female</td>\n",
              "      <td>False</td>\n",
              "      <td>Employed</td>\n",
              "      <td>True</td>\n",
              "      <td>B</td>\n",
              "      <td>Experienced</td>\n",
              "      <td>True</td>\n",
              "      <td>11</td>\n",
              "      <td>Turbos Finance</td>\n",
              "      <td>Testnet</td>\n",
              "      <td>Yes</td>\n",
              "      <td>True</td>\n",
              "    </tr>\n",
              "  </tbody>\n",
              "</table>\n",
              "</div>"
            ],
            "text/plain": [
              "    user_id user_name user_gender  user_gender_bool is_employed  \\\n",
              "366      42     Layla      Female             False    Employed   \n",
              "367      42     Layla      Female             False    Employed   \n",
              "368      42     Layla      Female             False    Employed   \n",
              "369      42     Layla      Female             False    Employed   \n",
              "370      42     Layla      Female             False    Employed   \n",
              "\n",
              "     is_employed_bool user_age_group   user_level  user_level_bool task_id  \\\n",
              "366              True              B  Experienced             True       2   \n",
              "367              True              B  Experienced             True       3   \n",
              "368              True              B  Experienced             True       8   \n",
              "369              True              B  Experienced             True       9   \n",
              "370              True              B  Experienced             True      11   \n",
              "\n",
              "         task_title task_type enrollment  enrollment_bool  \n",
              "366  Scroll Testnet   Testnet        Yes             True  \n",
              "367       Zetachain   Testnet        Yes             True  \n",
              "368       Viva Leva   Testnet        Yes             True  \n",
              "369     Cashmerlabs   Testnet        Yes             True  \n",
              "370  Turbos Finance   Testnet        Yes             True  "
            ]
          },
          "execution_count": 105,
          "metadata": {},
          "output_type": "execute_result"
        }
      ],
      "source": [
        "df_target_user = df_enrollments[df_enrollments['user_id']==str(userid)]\n",
        "df_target_user"
      ]
    },
    {
      "cell_type": "code",
      "execution_count": 106,
      "metadata": {
        "id": "FrQy4C9TMwOD"
      },
      "outputs": [
        {
          "name": "stdout",
          "output_type": "stream",
          "text": [
            "b'Viva Leva'\n",
            "Viva Leva\n"
          ]
        }
      ],
      "source": [
        "print(titles[0][0])\n",
        "new0 = str(titles[0][0]).replace('b\\'', '')\n",
        "new0 = new0.replace('\\'', '')\n",
        "print(new0)\n"
      ]
    },
    {
      "cell_type": "code",
      "execution_count": 107,
      "metadata": {
        "id": "nlEKney9IoX1"
      },
      "outputs": [],
      "source": [
        "#define a function to filter out recommended airdrop jobs that the user has already enrolled\n",
        "\n",
        "def delete_enrolled_tasks(userid, titles):\n",
        "  titles = titles.numpy().tolist()\n",
        "  recommended_titles = []\n",
        "  for i in range(len(titles[0])):\n",
        "    has_been_enrolled = False\n",
        "    cleaned_title = str(titles[0][i]).replace('b\\'', '')\n",
        "    cleaned_title = cleaned_title.replace('\\'', '')\n",
        "    for task_enrolled in df_enrollments[df_enrollments['user_id']==str(userid)].task_title:\n",
        "      if cleaned_title == task_enrolled:\n",
        "        has_been_enrolled = True\n",
        "        break\n",
        "    if not has_been_enrolled: \n",
        "      recommended_titles.append(cleaned_title)\n",
        "      print(cleaned_title)\n",
        "      #print('a')\n",
        "  return recommended_titles\n",
        "        \n",
        "\n",
        "#for task_finished in df_enrollments[df_enrollments['user_id']==str(userid)].task_id:\n",
        " # print(task_finished)"
      ]
    },
    {
      "cell_type": "code",
      "execution_count": 108,
      "metadata": {
        "id": "Gx-x8uks02Z-"
      },
      "outputs": [
        {
          "name": "stdout",
          "output_type": "stream",
          "text": [
            "10\n"
          ]
        }
      ],
      "source": [
        "print(len(titles[0]))"
      ]
    },
    {
      "cell_type": "code",
      "execution_count": 109,
      "metadata": {
        "id": "0PE2OEAy0i8z"
      },
      "outputs": [
        {
          "name": "stdout",
          "output_type": "stream",
          "text": [
            "b'Viva Leva'\n",
            "Viva Leva\n"
          ]
        }
      ],
      "source": [
        "print(titles[0][0])\n",
        "cleaned_title = str(titles[0][0]).replace('b\\'', '')\n",
        "cleaned_title = cleaned_title.replace('\\'', '')\n",
        "print(cleaned_title)"
      ]
    },
    {
      "cell_type": "code",
      "execution_count": 110,
      "metadata": {
        "id": "MmHY3GUivrde"
      },
      "outputs": [],
      "source": [
        "#recommended_titles = delete_enrolled_tasks(42,titles)"
      ]
    },
    {
      "cell_type": "code",
      "execution_count": 111,
      "metadata": {
        "id": "KcSC28pY0V-a"
      },
      "outputs": [],
      "source": [
        "#delete_enrolled_tasks(42,titles)"
      ]
    },
    {
      "cell_type": "code",
      "execution_count": 112,
      "metadata": {
        "id": "85h8vrOjOh3E"
      },
      "outputs": [],
      "source": [
        "#print(recommended_titles)"
      ]
    },
    {
      "cell_type": "code",
      "execution_count": 113,
      "metadata": {
        "id": "cQxNx8StKBga"
      },
      "outputs": [],
      "source": [
        "#print(f\"Recommendations for user 42: {recommended_titles[:3]}\")"
      ]
    },
    {
      "attachments": {},
      "cell_type": "markdown",
      "metadata": {
        "id": "cOoLv6ZMKg0L"
      },
      "source": [
        "Of course, the `BruteForce` layer is going to be too slow to serve a model with many possible candidates. The following sections shows how to speed this up by using an approximate retrieval index."
      ]
    },
    {
      "attachments": {},
      "cell_type": "markdown",
      "metadata": {
        "id": "pFlvp5DK4Ow8"
      },
      "source": [
        "## Model serving\n",
        "\n",
        "After the model is trained, we need a way to deploy it.\n",
        "\n",
        "In a two-tower retrieval model, serving has two components:\n",
        "\n",
        "- a serving query model, taking in features of the query and transforming them into a query embedding, and\n",
        "- a serving candidate model. This most often takes the form of an approximate nearest neighbours (ANN) index which allows fast approximate lookup of candidates in response to a query produced by the query model."
      ]
    },
    {
      "attachments": {},
      "cell_type": "markdown",
      "metadata": {
        "id": "NmhfltdpWZ06"
      },
      "source": [
        "In TFRS, both components can be packaged into a single exportable model, giving us a model that takes the raw user id and returns the titles of top movies for that user. This is done via exporting the model to a `SavedModel` format, which makes it possible to serve using [TensorFlow Serving](https://www.tensorflow.org/tfx/guide/serving).\n",
        "\n",
        "To deploy a model like this, we simply export the `BruteForce` layer we created above:"
      ]
    },
    {
      "cell_type": "code",
      "execution_count": 114,
      "metadata": {
        "id": "oJkRNBfCW5_E"
      },
      "outputs": [
        {
          "name": "stdout",
          "output_type": "stream",
          "text": [
            "WARNING:tensorflow:Model's `__init__()` arguments contain non-serializable objects. Please implement a `get_config()` method in the subclassed Model for proper saving and loading. Defaulting to empty config.\n"
          ]
        },
        {
          "name": "stderr",
          "output_type": "stream",
          "text": [
            "WARNING:tensorflow:Model's `__init__()` arguments contain non-serializable objects. Please implement a `get_config()` method in the subclassed Model for proper saving and loading. Defaulting to empty config.\n"
          ]
        },
        {
          "name": "stdout",
          "output_type": "stream",
          "text": [
            "WARNING:tensorflow:Model's `__init__()` arguments contain non-serializable objects. Please implement a `get_config()` method in the subclassed Model for proper saving and loading. Defaulting to empty config.\n"
          ]
        },
        {
          "name": "stderr",
          "output_type": "stream",
          "text": [
            "WARNING:tensorflow:Model's `__init__()` arguments contain non-serializable objects. Please implement a `get_config()` method in the subclassed Model for proper saving and loading. Defaulting to empty config.\n",
            "WARNING:absl:Found untraced functions such as query_with_exclusions while saving (showing 1 of 1). These functions will not be directly callable after loading.\n"
          ]
        },
        {
          "name": "stdout",
          "output_type": "stream",
          "text": [
            "INFO:tensorflow:Assets written to: sample_data/model\\assets\n"
          ]
        },
        {
          "name": "stderr",
          "output_type": "stream",
          "text": [
            "INFO:tensorflow:Assets written to: sample_data/model\\assets\n"
          ]
        },
        {
          "name": "stdout",
          "output_type": "stream",
          "text": [
            "Recommendations: [b'Viva Leva' b'Cashmerlabs' b'Turbos Finance']\n"
          ]
        }
      ],
      "source": [
        "# Export the query model.\n",
        "with tempfile.TemporaryDirectory() as tmp:\n",
        "  path = os.path.join(tmp, \"model\")\n",
        "  path = os.path.join(\"sample_data/\", \"model\")\n",
        "\n",
        "  # Save the index.\n",
        "  tf.saved_model.save(index, path)\n",
        "\n",
        "  # Load it back; can also be done in TensorFlow Serving.\n",
        "  loaded = tf.saved_model.load(path)\n",
        "\n",
        "  # Pass a user id in, get top predicted movie titles back.\n",
        "  scores, titles = loaded([\"42\"])\n",
        "\n",
        "  print(f\"Recommendations: {titles[0][:3]}\")"
      ]
    },
    {
      "cell_type": "code",
      "execution_count": 115,
      "metadata": {
        "id": "-IcdVvqe2e7u"
      },
      "outputs": [
        {
          "name": "stdout",
          "output_type": "stream",
          "text": [
            "WARNING:tensorflow:Model's `__init__()` arguments contain non-serializable objects. Please implement a `get_config()` method in the subclassed Model for proper saving and loading. Defaulting to empty config.\n"
          ]
        },
        {
          "name": "stderr",
          "output_type": "stream",
          "text": [
            "WARNING:tensorflow:Model's `__init__()` arguments contain non-serializable objects. Please implement a `get_config()` method in the subclassed Model for proper saving and loading. Defaulting to empty config.\n"
          ]
        },
        {
          "name": "stdout",
          "output_type": "stream",
          "text": [
            "WARNING:tensorflow:Model's `__init__()` arguments contain non-serializable objects. Please implement a `get_config()` method in the subclassed Model for proper saving and loading. Defaulting to empty config.\n"
          ]
        },
        {
          "name": "stderr",
          "output_type": "stream",
          "text": [
            "WARNING:tensorflow:Model's `__init__()` arguments contain non-serializable objects. Please implement a `get_config()` method in the subclassed Model for proper saving and loading. Defaulting to empty config.\n",
            "WARNING:absl:Found untraced functions such as query_with_exclusions while saving (showing 1 of 1). These functions will not be directly callable after loading.\n"
          ]
        },
        {
          "name": "stdout",
          "output_type": "stream",
          "text": [
            "INFO:tensorflow:Assets written to: the_exported_model/my_model.h5\\assets\n"
          ]
        },
        {
          "name": "stderr",
          "output_type": "stream",
          "text": [
            "INFO:tensorflow:Assets written to: the_exported_model/my_model.h5\\assets\n"
          ]
        }
      ],
      "source": [
        "#export the model into a .h5 file\n",
        "\n",
        "#path = os.path.join(tmp, \"model\")\n",
        "#path = os.path.join(\"sample_data/\", \"model\")\n",
        "path = \"the_exported_model/my_model.h5\"\n",
        "\n",
        "# Save the index.\n",
        "tf.saved_model.save(index, path)"
      ]
    },
    {
      "cell_type": "code",
      "execution_count": 118,
      "metadata": {},
      "outputs": [
        {
          "name": "stdout",
          "output_type": "stream",
          "text": [
            "WARNING:tensorflow:Compiled the loaded model, but the compiled metrics have yet to be built. `model.compile_metrics` will be empty until you train or evaluate the model.\n"
          ]
        },
        {
          "name": "stderr",
          "output_type": "stream",
          "text": [
            "WARNING:tensorflow:Compiled the loaded model, but the compiled metrics have yet to be built. `model.compile_metrics` will be empty until you train or evaluate the model.\n"
          ]
        },
        {
          "name": "stdout",
          "output_type": "stream",
          "text": [
            "WARNING:tensorflow:Compiled the loaded model, but the compiled metrics have yet to be built. `model.compile_metrics` will be empty until you train or evaluate the model.\n"
          ]
        },
        {
          "name": "stderr",
          "output_type": "stream",
          "text": [
            "WARNING:tensorflow:Compiled the loaded model, but the compiled metrics have yet to be built. `model.compile_metrics` will be empty until you train or evaluate the model.\n"
          ]
        }
      ],
      "source": [
        "# Save the user and airdrop models to .h5 files\n",
        "user_model.save(\"user_model.h5\")\n",
        "airdrop_model.save(\"airdrop_model.h5\")\n"
      ]
    },
    {
      "attachments": {},
      "cell_type": "markdown",
      "metadata": {},
      "source": [
        "xxxxxxxxxxxxxxxxxxxxxxxxxxxxxxxxxxxxxxxxxxxxxxxxxxxxxxxxxxxxxxxxxxxxxxxxxxxxxxxxxxxxxxxxxxxxx\n",
        "\n",
        "Check point Dirzy\n",
        "\n",
        "You can delate this markdown"
      ]
    },
    {
      "cell_type": "code",
      "execution_count": 116,
      "metadata": {
        "id": "vTzGROdj3GCh"
      },
      "outputs": [
        {
          "name": "stdout",
          "output_type": "stream",
          "text": [
            "ETHOS\n",
            "Hashgreenswap\n",
            "Cloud Base\n",
            "Fusion Finance\n",
            "GiroSwap\n",
            "Elixir Protocol\n",
            "Mantle Testnet\n",
            "Recommendations: ['ETHOS', 'Hashgreenswap', 'Cloud Base']\n"
          ]
        }
      ],
      "source": [
        "# Load it back; can also be done in TensorFlow Serving.\n",
        "loaded = tf.saved_model.load(path)\n",
        "\n",
        "# Pass a user id in, get top predicted airdrop titles back.\n",
        "userid = 42\n",
        "scores, titles = loaded([str(userid)])\n",
        "\n",
        "recommended_titles = delete_enrolled_tasks(userid, titles)\n",
        "\n",
        "#get top 3 recommended airdrops\n",
        "print(f\"Recommendations: {recommended_titles[:3]}\")"
      ]
    },
    {
      "cell_type": "code",
      "execution_count": 117,
      "metadata": {
        "id": "i0UFyyocksOF"
      },
      "outputs": [
        {
          "ename": "NotImplementedError",
          "evalue": "Saving the model to HDF5 format requires the model to be a Functional model or a Sequential model. It does not work for subclassed models, because such models are defined via the body of a Python method, which isn't safely serializable. Consider saving to the Tensorflow SavedModel format (by setting save_format=\"tf\") or using `save_weights`.",
          "output_type": "error",
          "traceback": [
            "\u001b[1;31m---------------------------------------------------------------------------\u001b[0m",
            "\u001b[1;31mNotImplementedError\u001b[0m                       Traceback (most recent call last)",
            "Cell \u001b[1;32mIn[117], line 1\u001b[0m\n\u001b[1;32m----> 1\u001b[0m model\u001b[39m.\u001b[39;49msave(\u001b[39m'\u001b[39;49m\u001b[39mthe_model.h5\u001b[39;49m\u001b[39m'\u001b[39;49m)\n",
            "File \u001b[1;32mc:\\Dirzys_Code\\Anaconda\\lib\\site-packages\\keras\\utils\\traceback_utils.py:70\u001b[0m, in \u001b[0;36mfilter_traceback.<locals>.error_handler\u001b[1;34m(*args, **kwargs)\u001b[0m\n\u001b[0;32m     67\u001b[0m     filtered_tb \u001b[39m=\u001b[39m _process_traceback_frames(e\u001b[39m.\u001b[39m__traceback__)\n\u001b[0;32m     68\u001b[0m     \u001b[39m# To get the full stack trace, call:\u001b[39;00m\n\u001b[0;32m     69\u001b[0m     \u001b[39m# `tf.debugging.disable_traceback_filtering()`\u001b[39;00m\n\u001b[1;32m---> 70\u001b[0m     \u001b[39mraise\u001b[39;00m e\u001b[39m.\u001b[39mwith_traceback(filtered_tb) \u001b[39mfrom\u001b[39;00m \u001b[39mNone\u001b[39;00m\n\u001b[0;32m     71\u001b[0m \u001b[39mfinally\u001b[39;00m:\n\u001b[0;32m     72\u001b[0m     \u001b[39mdel\u001b[39;00m filtered_tb\n",
            "File \u001b[1;32mc:\\Dirzys_Code\\Anaconda\\lib\\site-packages\\keras\\saving\\legacy\\save.py:152\u001b[0m, in \u001b[0;36msave_model\u001b[1;34m(model, filepath, overwrite, include_optimizer, save_format, signatures, options, save_traces)\u001b[0m\n\u001b[0;32m    143\u001b[0m \u001b[39mif\u001b[39;00m (\n\u001b[0;32m    144\u001b[0m     save_format \u001b[39m==\u001b[39m \u001b[39m\"\u001b[39m\u001b[39mh5\u001b[39m\u001b[39m\"\u001b[39m\n\u001b[0;32m    145\u001b[0m     \u001b[39mor\u001b[39;00m (h5py \u001b[39mis\u001b[39;00m \u001b[39mnot\u001b[39;00m \u001b[39mNone\u001b[39;00m \u001b[39mand\u001b[39;00m \u001b[39misinstance\u001b[39m(filepath, h5py\u001b[39m.\u001b[39mFile))\n\u001b[0;32m    146\u001b[0m     \u001b[39mor\u001b[39;00m saving_utils\u001b[39m.\u001b[39mis_hdf5_filepath(filepath)\n\u001b[0;32m    147\u001b[0m ):\n\u001b[0;32m    148\u001b[0m     \u001b[39m# TODO(b/130258301): add utility method for detecting model type.\u001b[39;00m\n\u001b[0;32m    149\u001b[0m     \u001b[39mif\u001b[39;00m \u001b[39mnot\u001b[39;00m model\u001b[39m.\u001b[39m_is_graph_network \u001b[39mand\u001b[39;00m \u001b[39mnot\u001b[39;00m \u001b[39misinstance\u001b[39m(\n\u001b[0;32m    150\u001b[0m         model, sequential\u001b[39m.\u001b[39mSequential\n\u001b[0;32m    151\u001b[0m     ):\n\u001b[1;32m--> 152\u001b[0m         \u001b[39mraise\u001b[39;00m \u001b[39mNotImplementedError\u001b[39;00m(\n\u001b[0;32m    153\u001b[0m             \u001b[39m\"\u001b[39m\u001b[39mSaving the model to HDF5 format requires the model to be a \u001b[39m\u001b[39m\"\u001b[39m\n\u001b[0;32m    154\u001b[0m             \u001b[39m\"\u001b[39m\u001b[39mFunctional model or a Sequential model. It does not work for \u001b[39m\u001b[39m\"\u001b[39m\n\u001b[0;32m    155\u001b[0m             \u001b[39m\"\u001b[39m\u001b[39msubclassed models, because such models are defined via the \u001b[39m\u001b[39m\"\u001b[39m\n\u001b[0;32m    156\u001b[0m             \u001b[39m\"\u001b[39m\u001b[39mbody of a Python method, which isn\u001b[39m\u001b[39m'\u001b[39m\u001b[39mt safely serializable. \u001b[39m\u001b[39m\"\u001b[39m\n\u001b[0;32m    157\u001b[0m             \u001b[39m\"\u001b[39m\u001b[39mConsider saving to the Tensorflow SavedModel format (by \u001b[39m\u001b[39m\"\u001b[39m\n\u001b[0;32m    158\u001b[0m             \u001b[39m'\u001b[39m\u001b[39msetting save_format=\u001b[39m\u001b[39m\"\u001b[39m\u001b[39mtf\u001b[39m\u001b[39m\"\u001b[39m\u001b[39m) or using `save_weights`.\u001b[39m\u001b[39m'\u001b[39m\n\u001b[0;32m    159\u001b[0m         )\n\u001b[0;32m    160\u001b[0m     hdf5_format\u001b[39m.\u001b[39msave_model_to_hdf5(\n\u001b[0;32m    161\u001b[0m         model, filepath, overwrite, include_optimizer\n\u001b[0;32m    162\u001b[0m     )\n\u001b[0;32m    163\u001b[0m \u001b[39melse\u001b[39;00m:\n",
            "\u001b[1;31mNotImplementedError\u001b[0m: Saving the model to HDF5 format requires the model to be a Functional model or a Sequential model. It does not work for subclassed models, because such models are defined via the body of a Python method, which isn't safely serializable. Consider saving to the Tensorflow SavedModel format (by setting save_format=\"tf\") or using `save_weights`."
          ]
        }
      ],
      "source": [
        "model.save('the_model.h5')"
      ]
    },
    {
      "cell_type": "code",
      "execution_count": null,
      "metadata": {
        "id": "6dY5TUB65rhr"
      },
      "outputs": [],
      "source": [
        "import shutil\n",
        "shutil.make_archive('the_exported_model2', 'zip', 'the_exported_model')"
      ]
    },
    {
      "cell_type": "code",
      "execution_count": null,
      "metadata": {
        "id": "-z2iHalD8QN5"
      },
      "outputs": [],
      "source": [
        "tf.keras.models.save_model(index, 'content/test_model')"
      ]
    },
    {
      "cell_type": "code",
      "execution_count": null,
      "metadata": {
        "id": "ULIsCUnh8nGa"
      },
      "outputs": [],
      "source": [
        "tf.keras.models.save_model(model, 'content/test_model2')"
      ]
    },
    {
      "cell_type": "code",
      "execution_count": null,
      "metadata": {
        "id": "dPiWKdjl96V9"
      },
      "outputs": [],
      "source": [
        "model.save(\"content_model\", save_format='tf')"
      ]
    },
    {
      "cell_type": "code",
      "execution_count": null,
      "metadata": {
        "id": "H21JADh0-kC-"
      },
      "outputs": [],
      "source": [
        "shutil.make_archive('content/modelsavedwithkerasmeta', 'zip', 'content/test_model')"
      ]
    },
    {
      "cell_type": "code",
      "execution_count": null,
      "metadata": {
        "id": "atgYIE5X-IQv"
      },
      "outputs": [],
      "source": [
        "model.save_weights('content_model_weights', save_format='tf')"
      ]
    },
    {
      "cell_type": "code",
      "execution_count": null,
      "metadata": {
        "id": "M44hDtpOBFuh"
      },
      "outputs": [],
      "source": [
        "loaded_model = AirdropsModel(user_model, airdrop_model)\n",
        "loaded_model.load_weights('content_model_weights')"
      ]
    },
    {
      "cell_type": "code",
      "execution_count": null,
      "metadata": {
        "id": "jGVNV2T4BQ2J"
      },
      "outputs": [],
      "source": [
        "userid = 42\n",
        "scores, titles = loaded_model([str(userid)])\n",
        "\n",
        "recommended_titles = delete_enrolled_tasks(userid, titles)\n",
        "\n",
        "#get top 3 recommended airdrops\n",
        "print(f\"Recommendations: {recommended_titles[:3]}\")"
      ]
    }
  ],
  "metadata": {
    "accelerator": "GPU",
    "colab": {
      "gpuType": "T4",
      "private_outputs": true,
      "provenance": []
    },
    "gpuClass": "standard",
    "kernelspec": {
      "display_name": "Python 3",
      "language": "python",
      "name": "python3"
    },
    "language_info": {
      "codemirror_mode": {
        "name": "ipython",
        "version": 3
      },
      "file_extension": ".py",
      "mimetype": "text/x-python",
      "name": "python",
      "nbconvert_exporter": "python",
      "pygments_lexer": "ipython3",
      "version": "3.9.16"
    }
  },
  "nbformat": 4,
  "nbformat_minor": 0
}
