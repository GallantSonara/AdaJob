{
  "cells": [
    {
      "cell_type": "markdown",
      "source": [
        "**C23-PS046 - AdaJob Recommender System**"
      ],
      "metadata": {
        "id": "0CGUGEBr1Zhl"
      }
    },
    {
      "cell_type": "markdown",
      "source": [
        "This collab file is to train and export the recommender system model. The output of this file is a zipped recommender model file"
      ],
      "metadata": {
        "id": "QFgYCKtB1ehv"
      }
    },
    {
      "cell_type": "code",
      "source": [
        "#unzip the model from the .zip file\n",
        "\n",
        "!unzip \"/content/modelsavedwithkerasmeta.zip\" -d \"/pleasework\""
      ],
      "metadata": {
        "colab": {
          "base_uri": "https://localhost:8080/"
        },
        "id": "7Ob97Z0a7Cxn",
        "outputId": "d6c31abe-32c8-4620-fc0e-55b2b8948dda"
      },
      "execution_count": null,
      "outputs": [
        {
          "output_type": "stream",
          "name": "stdout",
          "text": [
            "Archive:  /content/modelsavedwithkerasmetav2.zip\n",
            "replace /pleasework/fingerprint.pb? [y]es, [n]o, [A]ll, [N]one, [r]ename: yes\n",
            "  inflating: /pleasework/fingerprint.pb  \n",
            "replace /pleasework/saved_model.pb? [y]es, [n]o, [A]ll, [N]one, [r]ename: yes\n",
            "  inflating: /pleasework/saved_model.pb  \n",
            "replace /pleasework/keras_metadata.pb? [y]es, [n]o, [A]ll, [N]one, [r]ename: y\n",
            "  inflating: /pleasework/keras_metadata.pb  \n",
            "replace /pleasework/variables/variables.data-00000-of-00001? [y]es, [n]o, [A]ll, [N]one, [r]ename: y\n",
            "  inflating: /pleasework/variables/variables.data-00000-of-00001  \n",
            "replace /pleasework/variables/variables.index? [y]es, [n]o, [A]ll, [N]one, [r]ename: y\n",
            "  inflating: /pleasework/variables/variables.index  \n"
          ]
        }
      ]
    },
    {
      "cell_type": "code",
      "source": [
        "#import the necessary libraries\n",
        "\n",
        "import tensorflow as tf\n",
        "import pandas as pd"
      ],
      "metadata": {
        "id": "xKpBCOHQ70aJ"
      },
      "execution_count": null,
      "outputs": []
    },
    {
      "cell_type": "code",
      "source": [
        "#load the model\n",
        "\n",
        "new_model = tf.keras.models.load_model('/pleasework')"
      ],
      "metadata": {
        "colab": {
          "base_uri": "https://localhost:8080/"
        },
        "id": "zwd5tPip7toS",
        "outputId": "0301dc82-95c4-46f5-e6b0-cfb2f67fb306"
      },
      "execution_count": null,
      "outputs": [
        {
          "output_type": "stream",
          "name": "stderr",
          "text": [
            "WARNING:tensorflow:No training configuration found in save file, so the model was *not* compiled. Compile it manually.\n"
          ]
        }
      ]
    },
    {
      "cell_type": "code",
      "source": [
        "# Check the model's architecture\n",
        "new_model.summary()"
      ],
      "metadata": {
        "colab": {
          "base_uri": "https://localhost:8080/"
        },
        "id": "fJrIXeDp7zuU",
        "outputId": "f1599580-6d65-4085-c463-c07b0994fe32"
      },
      "execution_count": null,
      "outputs": [
        {
          "output_type": "stream",
          "name": "stdout",
          "text": [
            "Model: \"brute_force\"\n",
            "_________________________________________________________________\n",
            " Layer (type)                Output Shape              Param #   \n",
            "=================================================================\n",
            " sequential (Sequential)     (None, 32)                3232      \n",
            "                                                                 \n",
            "=================================================================\n",
            "Total params: 4,222\n",
            "Trainable params: 3,232\n",
            "Non-trainable params: 990\n",
            "_________________________________________________________________\n"
          ]
        }
      ]
    },
    {
      "cell_type": "code",
      "source": [
        "#load the dataset (to filter out recommended jobs that the user has done before)\n",
        "\n",
        "df_enrollments = pd.read_csv('/content/Dataset Recommendation System - Enrollment Dataset_enroll only.csv',  dtype={'user_id': 'str', 'task_id':'str'})\n",
        "df_enrollments"
      ],
      "metadata": {
        "id": "3HedvmsEDKjw"
      },
      "execution_count": null,
      "outputs": []
    },
    {
      "cell_type": "code",
      "source": [
        "#define a function to filter out recommended airdrop jobs that the user has already enrolled\n",
        "\n",
        "def delete_enrolled_tasks(userid, titles):\n",
        "  titles = titles.tolist()\n",
        "  recommended_titles = []\n",
        "  for i in range(len(titles[0])):\n",
        "    has_been_enrolled = False\n",
        "    cleaned_title = str(titles[0][i]).replace('b\\'', '')\n",
        "    cleaned_title = cleaned_title.replace('\\'', '')\n",
        "    for task_enrolled in df_enrollments[df_enrollments['user_id']==str(userid)].task_title:\n",
        "      if cleaned_title == task_enrolled:\n",
        "        has_been_enrolled = True\n",
        "        break\n",
        "    if not has_been_enrolled: \n",
        "      recommended_titles.append(cleaned_title)\n",
        "      print(cleaned_title)\n",
        "      #print('a')\n",
        "  return recommended_titles\n"
      ],
      "metadata": {
        "id": "gnM1xB4u_84g"
      },
      "execution_count": null,
      "outputs": []
    },
    {
      "cell_type": "code",
      "source": [
        "#define a function to filter out recommended airdrop jobs that the user has already enrolled\n",
        "\n",
        "def delete_enrolled_tasks_v2(userid):\n",
        "  _, titles = new_model.predict([str(userid)])\n",
        "  titles = titles.tolist()\n",
        "  recommended_titles = []\n",
        "  for i in range(len(titles[0])):\n",
        "    has_been_enrolled = False\n",
        "    cleaned_title = str(titles[0][i]).replace('b\\'', '')\n",
        "    cleaned_title = cleaned_title.replace('\\'', '')\n",
        "    for task_enrolled in df_enrollments[df_enrollments['user_id']==str(userid)].task_title:\n",
        "      if cleaned_title == task_enrolled:\n",
        "        has_been_enrolled = True\n",
        "        break\n",
        "    if not has_been_enrolled: \n",
        "      recommended_titles.append(cleaned_title)\n",
        "      print(cleaned_title)\n",
        "      #print('a')\n",
        "  return recommended_titles"
      ],
      "metadata": {
        "id": "I0EJznxAmbIq"
      },
      "execution_count": null,
      "outputs": []
    },
    {
      "cell_type": "code",
      "source": [
        "df_target_user = df_enrollments[df_enrollments.user_id==str(69)]\n",
        "df_target_user"
      ],
      "metadata": {
        "colab": {
          "base_uri": "https://localhost:8080/",
          "height": 238
        },
        "id": "r0XIy5x1D4Rn",
        "outputId": "66997bbe-75e1-4a92-82c9-d99450d96856"
      },
      "execution_count": null,
      "outputs": [
        {
          "output_type": "execute_result",
          "data": {
            "text/plain": [
              "    user_id user_name user_gender  user_gender_bool is_employed  \\\n",
              "481      69    Serena      Female             False  Unemployed   \n",
              "482      69    Serena      Female             False  Unemployed   \n",
              "483      69    Serena      Female             False  Unemployed   \n",
              "484      69    Serena      Female             False  Unemployed   \n",
              "\n",
              "     is_employed_bool user_age_group   user_level  user_level_bool task_id  \\\n",
              "481             False              B  Experienced             True      24   \n",
              "482             False              B  Experienced             True      28   \n",
              "483             False              B  Experienced             True      29   \n",
              "484             False              B  Experienced             True      30   \n",
              "\n",
              "     task_title task_type enrollment  enrollment_bool  \n",
              "481       ETHOS  Giveaway        Yes             True  \n",
              "482  Giveaway D  Giveaway        Yes             True  \n",
              "483  Giveaway E  Giveaway        Yes             True  \n",
              "484  Giveaway F  Giveaway        Yes             True  "
            ],
            "text/html": [
              "\n",
              "  <div id=\"df-7a26d419-f11a-4094-ad8a-7cd2856074b0\">\n",
              "    <div class=\"colab-df-container\">\n",
              "      <div>\n",
              "<style scoped>\n",
              "    .dataframe tbody tr th:only-of-type {\n",
              "        vertical-align: middle;\n",
              "    }\n",
              "\n",
              "    .dataframe tbody tr th {\n",
              "        vertical-align: top;\n",
              "    }\n",
              "\n",
              "    .dataframe thead th {\n",
              "        text-align: right;\n",
              "    }\n",
              "</style>\n",
              "<table border=\"1\" class=\"dataframe\">\n",
              "  <thead>\n",
              "    <tr style=\"text-align: right;\">\n",
              "      <th></th>\n",
              "      <th>user_id</th>\n",
              "      <th>user_name</th>\n",
              "      <th>user_gender</th>\n",
              "      <th>user_gender_bool</th>\n",
              "      <th>is_employed</th>\n",
              "      <th>is_employed_bool</th>\n",
              "      <th>user_age_group</th>\n",
              "      <th>user_level</th>\n",
              "      <th>user_level_bool</th>\n",
              "      <th>task_id</th>\n",
              "      <th>task_title</th>\n",
              "      <th>task_type</th>\n",
              "      <th>enrollment</th>\n",
              "      <th>enrollment_bool</th>\n",
              "    </tr>\n",
              "  </thead>\n",
              "  <tbody>\n",
              "    <tr>\n",
              "      <th>481</th>\n",
              "      <td>69</td>\n",
              "      <td>Serena</td>\n",
              "      <td>Female</td>\n",
              "      <td>False</td>\n",
              "      <td>Unemployed</td>\n",
              "      <td>False</td>\n",
              "      <td>B</td>\n",
              "      <td>Experienced</td>\n",
              "      <td>True</td>\n",
              "      <td>24</td>\n",
              "      <td>ETHOS</td>\n",
              "      <td>Giveaway</td>\n",
              "      <td>Yes</td>\n",
              "      <td>True</td>\n",
              "    </tr>\n",
              "    <tr>\n",
              "      <th>482</th>\n",
              "      <td>69</td>\n",
              "      <td>Serena</td>\n",
              "      <td>Female</td>\n",
              "      <td>False</td>\n",
              "      <td>Unemployed</td>\n",
              "      <td>False</td>\n",
              "      <td>B</td>\n",
              "      <td>Experienced</td>\n",
              "      <td>True</td>\n",
              "      <td>28</td>\n",
              "      <td>Giveaway D</td>\n",
              "      <td>Giveaway</td>\n",
              "      <td>Yes</td>\n",
              "      <td>True</td>\n",
              "    </tr>\n",
              "    <tr>\n",
              "      <th>483</th>\n",
              "      <td>69</td>\n",
              "      <td>Serena</td>\n",
              "      <td>Female</td>\n",
              "      <td>False</td>\n",
              "      <td>Unemployed</td>\n",
              "      <td>False</td>\n",
              "      <td>B</td>\n",
              "      <td>Experienced</td>\n",
              "      <td>True</td>\n",
              "      <td>29</td>\n",
              "      <td>Giveaway E</td>\n",
              "      <td>Giveaway</td>\n",
              "      <td>Yes</td>\n",
              "      <td>True</td>\n",
              "    </tr>\n",
              "    <tr>\n",
              "      <th>484</th>\n",
              "      <td>69</td>\n",
              "      <td>Serena</td>\n",
              "      <td>Female</td>\n",
              "      <td>False</td>\n",
              "      <td>Unemployed</td>\n",
              "      <td>False</td>\n",
              "      <td>B</td>\n",
              "      <td>Experienced</td>\n",
              "      <td>True</td>\n",
              "      <td>30</td>\n",
              "      <td>Giveaway F</td>\n",
              "      <td>Giveaway</td>\n",
              "      <td>Yes</td>\n",
              "      <td>True</td>\n",
              "    </tr>\n",
              "  </tbody>\n",
              "</table>\n",
              "</div>\n",
              "      <button class=\"colab-df-convert\" onclick=\"convertToInteractive('df-7a26d419-f11a-4094-ad8a-7cd2856074b0')\"\n",
              "              title=\"Convert this dataframe to an interactive table.\"\n",
              "              style=\"display:none;\">\n",
              "        \n",
              "  <svg xmlns=\"http://www.w3.org/2000/svg\" height=\"24px\"viewBox=\"0 0 24 24\"\n",
              "       width=\"24px\">\n",
              "    <path d=\"M0 0h24v24H0V0z\" fill=\"none\"/>\n",
              "    <path d=\"M18.56 5.44l.94 2.06.94-2.06 2.06-.94-2.06-.94-.94-2.06-.94 2.06-2.06.94zm-11 1L8.5 8.5l.94-2.06 2.06-.94-2.06-.94L8.5 2.5l-.94 2.06-2.06.94zm10 10l.94 2.06.94-2.06 2.06-.94-2.06-.94-.94-2.06-.94 2.06-2.06.94z\"/><path d=\"M17.41 7.96l-1.37-1.37c-.4-.4-.92-.59-1.43-.59-.52 0-1.04.2-1.43.59L10.3 9.45l-7.72 7.72c-.78.78-.78 2.05 0 2.83L4 21.41c.39.39.9.59 1.41.59.51 0 1.02-.2 1.41-.59l7.78-7.78 2.81-2.81c.8-.78.8-2.07 0-2.86zM5.41 20L4 18.59l7.72-7.72 1.47 1.35L5.41 20z\"/>\n",
              "  </svg>\n",
              "      </button>\n",
              "      \n",
              "  <style>\n",
              "    .colab-df-container {\n",
              "      display:flex;\n",
              "      flex-wrap:wrap;\n",
              "      gap: 12px;\n",
              "    }\n",
              "\n",
              "    .colab-df-convert {\n",
              "      background-color: #E8F0FE;\n",
              "      border: none;\n",
              "      border-radius: 50%;\n",
              "      cursor: pointer;\n",
              "      display: none;\n",
              "      fill: #1967D2;\n",
              "      height: 32px;\n",
              "      padding: 0 0 0 0;\n",
              "      width: 32px;\n",
              "    }\n",
              "\n",
              "    .colab-df-convert:hover {\n",
              "      background-color: #E2EBFA;\n",
              "      box-shadow: 0px 1px 2px rgba(60, 64, 67, 0.3), 0px 1px 3px 1px rgba(60, 64, 67, 0.15);\n",
              "      fill: #174EA6;\n",
              "    }\n",
              "\n",
              "    [theme=dark] .colab-df-convert {\n",
              "      background-color: #3B4455;\n",
              "      fill: #D2E3FC;\n",
              "    }\n",
              "\n",
              "    [theme=dark] .colab-df-convert:hover {\n",
              "      background-color: #434B5C;\n",
              "      box-shadow: 0px 1px 3px 1px rgba(0, 0, 0, 0.15);\n",
              "      filter: drop-shadow(0px 1px 2px rgba(0, 0, 0, 0.3));\n",
              "      fill: #FFFFFF;\n",
              "    }\n",
              "  </style>\n",
              "\n",
              "      <script>\n",
              "        const buttonEl =\n",
              "          document.querySelector('#df-7a26d419-f11a-4094-ad8a-7cd2856074b0 button.colab-df-convert');\n",
              "        buttonEl.style.display =\n",
              "          google.colab.kernel.accessAllowed ? 'block' : 'none';\n",
              "\n",
              "        async function convertToInteractive(key) {\n",
              "          const element = document.querySelector('#df-7a26d419-f11a-4094-ad8a-7cd2856074b0');\n",
              "          const dataTable =\n",
              "            await google.colab.kernel.invokeFunction('convertToInteractive',\n",
              "                                                     [key], {});\n",
              "          if (!dataTable) return;\n",
              "\n",
              "          const docLinkHtml = 'Like what you see? Visit the ' +\n",
              "            '<a target=\"_blank\" href=https://colab.research.google.com/notebooks/data_table.ipynb>data table notebook</a>'\n",
              "            + ' to learn more about interactive tables.';\n",
              "          element.innerHTML = '';\n",
              "          dataTable['output_type'] = 'display_data';\n",
              "          await google.colab.output.renderOutput(dataTable, element);\n",
              "          const docLink = document.createElement('div');\n",
              "          docLink.innerHTML = docLinkHtml;\n",
              "          element.appendChild(docLink);\n",
              "        }\n",
              "      </script>\n",
              "    </div>\n",
              "  </div>\n",
              "  "
            ]
          },
          "metadata": {},
          "execution_count": 10
        }
      ]
    },
    {
      "cell_type": "code",
      "source": [
        "# Pass a user id in, get top predicted airdrop titles back.\n",
        "userid = 69\n",
        "_, titles = new_model.predict([str(userid)])\n"
      ],
      "metadata": {
        "colab": {
          "base_uri": "https://localhost:8080/"
        },
        "id": "oZjjmfI3_z0v",
        "outputId": "de7654e6-e0cb-4fb6-db30-2139cfb88fb0"
      },
      "execution_count": null,
      "outputs": [
        {
          "output_type": "stream",
          "name": "stdout",
          "text": [
            "1/1 [==============================] - 0s 116ms/step\n"
          ]
        }
      ]
    },
    {
      "cell_type": "code",
      "source": [
        "print(f\"Recommendations for user {userid}: {titles[:3]}\")"
      ],
      "metadata": {
        "colab": {
          "base_uri": "https://localhost:8080/"
        },
        "id": "0TgO_M4sXl-b",
        "outputId": "e6929e5c-f592-4fea-fb52-b7f23bd4b6f6"
      },
      "execution_count": null,
      "outputs": [
        {
          "output_type": "stream",
          "name": "stdout",
          "text": [
            "Recommendations: [[b'Giveaway D' b'ETHOS' b'Giveaway F' b'Giveaway C' b'Giveaway E'\n",
            "  b'Giveaway A' b'Catly.io' b'Giveaway B' b'Taiko' b'Turbos Finance']]\n"
          ]
        }
      ]
    },
    {
      "cell_type": "code",
      "source": [
        "recommended_titles = delete_enrolled_tasks(userid, titles)\n",
        "\n",
        "#get top 3 recommended airdrops\n",
        "print(f\"Top 3 Recommendations for user {userid} (filtered): {recommended_titles[:3]}\")\n"
      ],
      "metadata": {
        "colab": {
          "base_uri": "https://localhost:8080/"
        },
        "id": "Qt8h0D0okJtK",
        "outputId": "e01b35b6-dea7-4d18-c19a-4ab81cf68abd"
      },
      "execution_count": null,
      "outputs": [
        {
          "output_type": "stream",
          "name": "stdout",
          "text": [
            "Giveaway C\n",
            "Giveaway A\n",
            "Catly.io\n",
            "Giveaway B\n",
            "Taiko\n",
            "Turbos Finance\n",
            "Recommendations: ['Giveaway C', 'Giveaway A', 'Catly.io']\n"
          ]
        }
      ]
    },
    {
      "cell_type": "code",
      "source": [
        "recommended_titles_v2 = delete_enrolled_tasks_v2(userid)\n",
        "\n",
        "#get top 3 recommended airdrops\n",
        "print(f\"Top 3 Recommendations for user {userid} (filtered): {recommended_titles_v2[:3]}\")"
      ],
      "metadata": {
        "colab": {
          "base_uri": "https://localhost:8080/"
        },
        "id": "91cfd9-qnvAW",
        "outputId": "d7c01c7b-c947-437a-a429-df9779932de6"
      },
      "execution_count": null,
      "outputs": [
        {
          "output_type": "stream",
          "name": "stdout",
          "text": [
            "1/1 [==============================] - 0s 47ms/step\n",
            "GiroSwap\n",
            "ETHOS\n",
            "Hashgreenswap\n",
            "Fusion Finance\n",
            "Elixir Protocol\n",
            "Giveaway B\n",
            "Recommendations: ['GiroSwap', 'ETHOS', 'Hashgreenswap']\n"
          ]
        }
      ]
    }
  ],
  "metadata": {
    "colab": {
      "provenance": []
    },
    "kernelspec": {
      "display_name": "Python 3",
      "name": "python3"
    },
    "language_info": {
      "name": "python"
    }
  },
  "nbformat": 4,
  "nbformat_minor": 0
}